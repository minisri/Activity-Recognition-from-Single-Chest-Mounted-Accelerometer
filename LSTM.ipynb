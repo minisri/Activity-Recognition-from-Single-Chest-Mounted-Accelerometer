{
 "cells": [
  {
   "cell_type": "code",
   "execution_count": 47,
   "metadata": {},
   "outputs": [],
   "source": [
    "import pandas as pd\n",
    "import numpy as np\n",
    "import matplotlib.pyplot as plt\n",
    "import seaborn as sns\n",
    "import os\n",
    "import glob"
   ]
  },
  {
   "cell_type": "code",
   "execution_count": 48,
   "metadata": {},
   "outputs": [],
   "source": [
    "from zipfile import ZipFile"
   ]
  },
  {
   "cell_type": "code",
   "execution_count": 49,
   "metadata": {},
   "outputs": [],
   "source": [
    "with ZipFile('task.zip', 'r') as zipObj:\n",
    "   # Extract all the contents of zip file in current directory\n",
    "   zipObj.extractall()"
   ]
  },
  {
   "cell_type": "code",
   "execution_count": 50,
   "metadata": {},
   "outputs": [],
   "source": [
    "d = 'Activity Recognition from Single Chest-Mounted Accelerometer'\n",
    "PATH = '../'"
   ]
  },
  {
   "cell_type": "code",
   "execution_count": 51,
   "metadata": {},
   "outputs": [
    {
     "data": {
      "text/plain": [
       "'/home/akku/Desktop/myenv/Activity Recognition from Single Chest-Mounted Accelerometer/'"
      ]
     },
     "execution_count": 51,
     "metadata": {},
     "output_type": "execute_result"
    }
   ],
   "source": [
    "os.path.join(os.getcwd(),'Activity Recognition from Single Chest-Mounted Accelerometer/')"
   ]
  },
  {
   "cell_type": "code",
   "execution_count": 52,
   "metadata": {},
   "outputs": [],
   "source": [
    "data_dir=os.path.join(os.getcwd(),'Activity Recognition from Single Chest-Mounted Accelerometer/')"
   ]
  },
  {
   "cell_type": "code",
   "execution_count": 53,
   "metadata": {},
   "outputs": [],
   "source": [
    "files = [f for f in os.listdir(data_dir) if f.endswith('.csv')]\n"
   ]
  },
  {
   "cell_type": "code",
   "execution_count": 54,
   "metadata": {},
   "outputs": [],
   "source": [
    "s_cols = ['0', '1866', '2390', '2282', '1', 'user']"
   ]
  },
  {
   "cell_type": "code",
   "execution_count": 55,
   "metadata": {},
   "outputs": [],
   "source": [
    "data=pd.DataFrame()\n",
    "#s_cols=list(df.columns)\n",
    "#s_cols = s_cols + [\"id\"]\n",
    "id=0\n",
    "ids=[]\n",
    "for file_name in  files:\n",
    "        id +=1\n",
    "        df = pd.read_csv(data_dir + str(file_name))\n",
    "        df[\"user\"] =id\n",
    "        df.columns=s_cols\n",
    "        data=pd.concat([data,df],axis=0)\n",
    "        ids.append(id)\n",
    "        "
   ]
  },
  {
   "cell_type": "code",
   "execution_count": null,
   "metadata": {},
   "outputs": [],
   "source": []
  },
  {
   "cell_type": "code",
   "execution_count": 56,
   "metadata": {},
   "outputs": [],
   "source": [
    "s_cols=list(df.columns)"
   ]
  },
  {
   "cell_type": "code",
   "execution_count": null,
   "metadata": {},
   "outputs": [],
   "source": []
  },
  {
   "cell_type": "code",
   "execution_count": 57,
   "metadata": {},
   "outputs": [],
   "source": [
    "data.columns=([\"sequential number\", \"x acceleration\", \"y acceleration\", \"z acceleration\", \"label\",\"user\"])"
   ]
  },
  {
   "cell_type": "code",
   "execution_count": null,
   "metadata": {},
   "outputs": [],
   "source": []
  },
  {
   "cell_type": "code",
   "execution_count": 58,
   "metadata": {},
   "outputs": [],
   "source": [
    "activities = {\n",
    "        1: \"Working at Computer\",\n",
    "        2: \"Standing Up, Walking and Going updown stairs\",\n",
    "        3: \"Standing\",\n",
    "        4: \"Walking\",\n",
    "        5: \"Going UpDown Stairs\",\n",
    "        6: \"Walking and Talking with Someone\",\n",
    "        7: \"Talking while Standin\",        \n",
    "    }"
   ]
  },
  {
   "cell_type": "code",
   "execution_count": 59,
   "metadata": {},
   "outputs": [],
   "source": [
    "data['activity_1']=data.label.map(activities)"
   ]
  },
  {
   "cell_type": "code",
   "execution_count": null,
   "metadata": {},
   "outputs": [],
   "source": []
  },
  {
   "cell_type": "code",
   "execution_count": 60,
   "metadata": {},
   "outputs": [],
   "source": [
    "# removing the activity column\n",
    "\n",
    "x = data.drop(['label','sequential number','user'], axis = 1)\n",
    "\n",
    "y=data['label']\n"
   ]
  },
  {
   "cell_type": "code",
   "execution_count": 61,
   "metadata": {},
   "outputs": [],
   "source": [
    "from sklearn.model_selection import train_test_split as tt\n",
    "x_train,x_test,y_train,y_test=tt(x,y,test_size=0.20,random_state=0)"
   ]
  },
  {
   "cell_type": "code",
   "execution_count": null,
   "metadata": {},
   "outputs": [],
   "source": []
  },
  {
   "cell_type": "code",
   "execution_count": 62,
   "metadata": {
    "scrolled": true
   },
   "outputs": [
    {
     "name": "stderr",
     "output_type": "stream",
     "text": [
      "/home/akku/.local/lib/python3.8/site-packages/pandas/core/indexing.py:1736: SettingWithCopyWarning: \n",
      "A value is trying to be set on a copy of a slice from a DataFrame.\n",
      "Try using .loc[row_indexer,col_indexer] = value instead\n",
      "\n",
      "See the caveats in the documentation: https://pandas.pydata.org/pandas-docs/stable/user_guide/indexing.html#returning-a-view-versus-a-copy\n",
      "  isetter(loc, value[:, i].tolist())\n",
      "/home/akku/.local/lib/python3.8/site-packages/pandas/core/indexing.py:1736: SettingWithCopyWarning: \n",
      "A value is trying to be set on a copy of a slice from a DataFrame.\n",
      "Try using .loc[row_indexer,col_indexer] = value instead\n",
      "\n",
      "See the caveats in the documentation: https://pandas.pydata.org/pandas-docs/stable/user_guide/indexing.html#returning-a-view-versus-a-copy\n",
      "  isetter(loc, value[:, i].tolist())\n"
     ]
    }
   ],
   "source": [
    "from sklearn.preprocessing import RobustScaler\n",
    "scale_columns = ['x acceleration', 'y acceleration', 'z acceleration']\n",
    "\n",
    "scaler = RobustScaler()\n",
    "\n",
    "scaler = scaler.fit(x_train[scale_columns])\n",
    "\n",
    "x_train.loc[:, scale_columns] = scaler.transform(\n",
    "  x_train[scale_columns].to_numpy()\n",
    ")\n",
    "\n",
    "x_test.loc[:, scale_columns] = scaler.transform(\n",
    "  x_test[scale_columns].to_numpy()\n",
    ")"
   ]
  },
  {
   "cell_type": "code",
   "execution_count": 63,
   "metadata": {},
   "outputs": [],
   "source": [
    "from scipy import stats\n",
    "def create_dataset(X, y, time_steps=1, step=1):\n",
    "    Xs, ys = [], []\n",
    "    for i in range(0, len(X) - time_steps, step):\n",
    "        v = X.iloc[i:(i + time_steps)].values\n",
    "        labels = y.iloc[i: i + time_steps]\n",
    "        Xs.append(v)\n",
    "        ys.append(stats.mode(labels)[0][0])\n",
    "    return np.array(Xs), np.array(ys).reshape(-1, 1)"
   ]
  },
  {
   "cell_type": "code",
   "execution_count": 64,
   "metadata": {},
   "outputs": [],
   "source": [
    "TIME_STEPS = 200\n",
    "STEP = 40\n",
    "\n",
    "X_train, y_train = create_dataset(\n",
    "    x_train[['x acceleration', 'y acceleration', 'z acceleration']],\n",
    "    x_train.activity_1,\n",
    "    TIME_STEPS,\n",
    "    STEP\n",
    ")\n",
    "\n",
    "X_test, y_test = create_dataset(\n",
    "    x_test[['x acceleration', 'y acceleration', 'z acceleration']],\n",
    "    x_test.activity_1,\n",
    "    TIME_STEPS,\n",
    "    STEP\n",
    ")"
   ]
  },
  {
   "cell_type": "code",
   "execution_count": 65,
   "metadata": {},
   "outputs": [
    {
     "name": "stdout",
     "output_type": "stream",
     "text": [
      "(38533, 200, 3) (38533, 1)\n"
     ]
    }
   ],
   "source": [
    "print(X_train.shape, y_train.shape)\n"
   ]
  },
  {
   "cell_type": "code",
   "execution_count": 66,
   "metadata": {},
   "outputs": [],
   "source": [
    "from sklearn.preprocessing import OneHotEncoder\n",
    "enc = OneHotEncoder(handle_unknown='ignore', sparse=False)\n",
    "\n",
    "enc = enc.fit(y_train)\n",
    "\n",
    "y_train = enc.transform(y_train)\n",
    "y_test = enc.transform(y_test)"
   ]
  },
  {
   "cell_type": "code",
   "execution_count": 67,
   "metadata": {},
   "outputs": [],
   "source": [
    "import keras\n",
    "\n",
    "model = keras.Sequential()\n",
    "model.add(\n",
    "    keras.layers.Bidirectional(\n",
    "      keras.layers.LSTM(\n",
    "          units=128,\n",
    "          input_shape=[X_train.shape[1], X_train.shape[2]]\n",
    "      )\n",
    "    )\n",
    ")\n",
    "model.add(keras.layers.Dropout(rate=0.5))\n",
    "model.add(keras.layers.Dense(units=128, activation='relu'))\n",
    "model.add(keras.layers.Dense(y_train.shape[1], activation='softmax'))\n",
    "\n",
    "model.compile(\n",
    "  loss='categorical_crossentropy',\n",
    "  optimizer='adam',\n",
    "  metrics=['acc']\n",
    ")"
   ]
  },
  {
   "cell_type": "code",
   "execution_count": 71,
   "metadata": {},
   "outputs": [
    {
     "name": "stdout",
     "output_type": "stream",
     "text": [
      "Train on 34679 samples, validate on 3854 samples\n",
      "Epoch 1/20\n",
      "34679/34679 [==============================] - 343s 10ms/step - loss: 0.6975 - acc: 0.5348 - val_loss: 0.6973 - val_acc: 0.5246\n",
      "Epoch 2/20\n",
      "34679/34679 [==============================] - 344s 10ms/step - loss: 0.6968 - acc: 0.5359 - val_loss: 0.6972 - val_acc: 0.5246\n",
      "Epoch 3/20\n",
      "34679/34679 [==============================] - 344s 10ms/step - loss: 0.6969 - acc: 0.5352 - val_loss: 0.6975 - val_acc: 0.5246\n",
      "Epoch 4/20\n",
      "34679/34679 [==============================] - 345s 10ms/step - loss: 0.6968 - acc: 0.5369 - val_loss: 0.6963 - val_acc: 0.5246\n",
      "Epoch 5/20\n",
      "34679/34679 [==============================] - 345s 10ms/step - loss: 0.6964 - acc: 0.5372 - val_loss: 0.6965 - val_acc: 0.5246\n",
      "Epoch 6/20\n",
      "34679/34679 [==============================] - 363s 10ms/step - loss: 0.6966 - acc: 0.5371 - val_loss: 0.6965 - val_acc: 0.5246\n",
      "Epoch 7/20\n",
      "34679/34679 [==============================] - 345s 10ms/step - loss: 0.6964 - acc: 0.5368 - val_loss: 0.6970 - val_acc: 0.5246\n",
      "Epoch 8/20\n",
      "34679/34679 [==============================] - 346s 10ms/step - loss: 0.6965 - acc: 0.5374 - val_loss: 0.6960 - val_acc: 0.5246\n",
      "Epoch 9/20\n",
      "34679/34679 [==============================] - 345s 10ms/step - loss: 0.6961 - acc: 0.5363 - val_loss: 0.6967 - val_acc: 0.5246\n",
      "Epoch 10/20\n",
      "34679/34679 [==============================] - 345s 10ms/step - loss: 0.6968 - acc: 0.5353 - val_loss: 0.6972 - val_acc: 0.5246\n",
      "Epoch 11/20\n",
      "34679/34679 [==============================] - 345s 10ms/step - loss: 0.6963 - acc: 0.5371 - val_loss: 0.6972 - val_acc: 0.5246\n",
      "Epoch 12/20\n",
      "34679/34679 [==============================] - 345s 10ms/step - loss: 0.6965 - acc: 0.5371 - val_loss: 0.6964 - val_acc: 0.5244\n",
      "Epoch 13/20\n",
      "34679/34679 [==============================] - 345s 10ms/step - loss: 0.6963 - acc: 0.5373 - val_loss: 0.6974 - val_acc: 0.5244\n",
      "Epoch 14/20\n",
      "34679/34679 [==============================] - 345s 10ms/step - loss: 0.6963 - acc: 0.5374 - val_loss: 0.6983 - val_acc: 0.5246\n",
      "Epoch 15/20\n",
      "34679/34679 [==============================] - 345s 10ms/step - loss: 0.6965 - acc: 0.5372 - val_loss: 0.6957 - val_acc: 0.5257\n",
      "Epoch 16/20\n",
      "34679/34679 [==============================] - 345s 10ms/step - loss: 0.6960 - acc: 0.5366 - val_loss: 0.6957 - val_acc: 0.5257\n",
      "Epoch 17/20\n",
      "34679/34679 [==============================] - 348s 10ms/step - loss: 0.6960 - acc: 0.5376 - val_loss: 0.6957 - val_acc: 0.5254\n",
      "Epoch 18/20\n",
      "34679/34679 [==============================] - 345s 10ms/step - loss: 0.6958 - acc: 0.5375 - val_loss: 0.6959 - val_acc: 0.5252\n",
      "Epoch 19/20\n",
      "34679/34679 [==============================] - 345s 10ms/step - loss: 0.6958 - acc: 0.5376 - val_loss: 0.6956 - val_acc: 0.5249\n",
      "Epoch 20/20\n",
      "34679/34679 [==============================] - 346s 10ms/step - loss: 0.6946 - acc: 0.5354 - val_loss: 0.6958 - val_acc: 0.5278\n"
     ]
    }
   ],
   "source": [
    "history = model.fit(\n",
    "    X_train, y_train,\n",
    "    epochs=20,\n",
    "    batch_size=32,\n",
    "    validation_split=0.1,\n",
    "    shuffle=False\n",
    ")"
   ]
  },
  {
   "cell_type": "code",
   "execution_count": 69,
   "metadata": {},
   "outputs": [
    {
     "name": "stdout",
     "output_type": "stream",
     "text": [
      "9630/9630 [==============================] - 24s 3ms/step\n"
     ]
    },
    {
     "data": {
      "text/plain": [
       "[0.6987705431251883, 0.5304257273674011]"
      ]
     },
     "execution_count": 69,
     "metadata": {},
     "output_type": "execute_result"
    }
   ],
   "source": [
    "model.evaluate(X_test, y_test)"
   ]
  },
  {
   "cell_type": "code",
   "execution_count": 70,
   "metadata": {},
   "outputs": [],
   "source": [
    "y_pred = model.predict(X_test)"
   ]
  },
  {
   "cell_type": "code",
   "execution_count": null,
   "metadata": {},
   "outputs": [],
   "source": []
  }
 ],
 "metadata": {
  "kernelspec": {
   "display_name": "conda_tensorflow_p36",
   "language": "python",
   "name": "conda_tensorflow_p36"
  },
  "language_info": {
   "codemirror_mode": {
    "name": "ipython",
    "version": 3
   },
   "file_extension": ".py",
   "mimetype": "text/x-python",
   "name": "python",
   "nbconvert_exporter": "python",
   "pygments_lexer": "ipython3",
   "version": "3.6.10"
  }
 },
 "nbformat": 4,
 "nbformat_minor": 4
}
