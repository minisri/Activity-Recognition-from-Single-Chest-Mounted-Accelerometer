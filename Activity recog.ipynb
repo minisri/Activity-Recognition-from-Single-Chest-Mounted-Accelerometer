{
 "cells": [
  {
   "cell_type": "code",
   "execution_count": 2,
   "metadata": {},
   "outputs": [
    {
     "name": "stdout",
     "output_type": "stream",
     "text": [
      "Collecting xgboost\n",
      "  Downloading xgboost-1.3.1-py3-none-manylinux2010_x86_64.whl (157.5 MB)\n",
      "\u001b[K     |████████████████████████████████| 157.5 MB 31 kB/s /s eta 0:00:01   |███████████▋                    | 57.1 MB 62.2 MB/s eta 0:00:02     |████████████████▎               | 80.4 MB 62.2 MB/s eta 0:00:02     |███████████████████▌            | 95.9 MB 62.2 MB/s eta 0:00:01     |████████████████████████▎       | 119.3 MB 102.6 MB/s eta 0:00:01     |███████████████████████████████▍| 154.3 MB 102.6 MB/s eta 0:00:01\n",
      "\u001b[?25hRequirement already satisfied: numpy in /home/ec2-user/anaconda3/envs/python3/lib/python3.6/site-packages (from xgboost) (1.19.4)\n",
      "Requirement already satisfied: scipy in /home/ec2-user/anaconda3/envs/python3/lib/python3.6/site-packages (from xgboost) (1.4.1)\n",
      "Requirement already satisfied: numpy in /home/ec2-user/anaconda3/envs/python3/lib/python3.6/site-packages (from xgboost) (1.19.4)\n",
      "Installing collected packages: xgboost\n",
      "Successfully installed xgboost-1.3.1\n",
      "\u001b[33mWARNING: You are using pip version 20.3; however, version 20.3.3 is available.\n",
      "You should consider upgrading via the '/home/ec2-user/anaconda3/envs/python3/bin/python -m pip install --upgrade pip' command.\u001b[0m\n"
     ]
    }
   ],
   "source": [
    "!pip install xgboost"
   ]
  },
  {
   "cell_type": "code",
   "execution_count": 3,
   "metadata": {},
   "outputs": [],
   "source": [
    "import pandas as pd\n",
    "import numpy as np\n",
    "import matplotlib.pyplot as plt\n",
    "import seaborn as sns\n",
    "import os\n",
    "import glob\n",
    "from zipfile import ZipFile\n",
    "from sklearn.model_selection import train_test_split as tt\n",
    "from sklearn.tree import DecisionTreeClassifier as dtc #importing Decision tree classifier from sklearn\n",
    "from sklearn.metrics import classification_report as cr # classification report\n",
    "from sklearn import metrics #importing metrics library to calculate the accuracy of the classifier model \n",
    "from sklearn.metrics import confusion_matrix\n",
    "from xgboost import XGBClassifier as xgb"
   ]
  },
  {
   "cell_type": "markdown",
   "metadata": {},
   "source": [
    "# unzipping the files"
   ]
  },
  {
   "cell_type": "code",
   "execution_count": 3,
   "metadata": {},
   "outputs": [],
   "source": [
    "with ZipFile('task.zip', 'r') as zipObj:\n",
    "   # Extract all the contents of zip file in current directory\n",
    "   zipObj.extractall()"
   ]
  },
  {
   "cell_type": "code",
   "execution_count": 62,
   "metadata": {},
   "outputs": [],
   "source": [
    "d = 'Activity Recognition from Single Chest-Mounted Accelerometer'\n",
    "PATH = '../'"
   ]
  },
  {
   "cell_type": "code",
   "execution_count": 63,
   "metadata": {},
   "outputs": [
    {
     "data": {
      "text/plain": [
       "['15.csv',\n",
       " '7.csv',\n",
       " '12.csv',\n",
       " '11.csv',\n",
       " '6.csv',\n",
       " '9.csv',\n",
       " 'README',\n",
       " '4.csv',\n",
       " '5.csv',\n",
       " '1.csv',\n",
       " '13.csv',\n",
       " '8.csv',\n",
       " '2.csv',\n",
       " '3.csv',\n",
       " '.DS_Store',\n",
       " '14.csv',\n",
       " '10.csv']"
      ]
     },
     "execution_count": 63,
     "metadata": {},
     "output_type": "execute_result"
    }
   ],
   "source": [
    "os.listdir(d)"
   ]
  },
  {
   "cell_type": "markdown",
   "metadata": {},
   "source": [
    "def get_data_dir():\n",
    "    return os.path.join(os.getcwd(),'Activity Recognition from Single Chest-Mounted Accelerometer/')"
   ]
  },
  {
   "cell_type": "code",
   "execution_count": 64,
   "metadata": {},
   "outputs": [
    {
     "data": {
      "text/plain": [
       "'/home/ec2-user/SageMaker/anushka'"
      ]
     },
     "execution_count": 64,
     "metadata": {},
     "output_type": "execute_result"
    }
   ],
   "source": [
    "os.getcwd()"
   ]
  },
  {
   "cell_type": "code",
   "execution_count": 65,
   "metadata": {},
   "outputs": [
    {
     "data": {
      "text/plain": [
       "'/home/ec2-user/SageMaker/anushka/Activity Recognition from Single Chest-Mounted Accelerometer/'"
      ]
     },
     "execution_count": 65,
     "metadata": {},
     "output_type": "execute_result"
    }
   ],
   "source": [
    "os.path.join(os.getcwd(),'Activity Recognition from Single Chest-Mounted Accelerometer/')"
   ]
  },
  {
   "cell_type": "code",
   "execution_count": 66,
   "metadata": {},
   "outputs": [],
   "source": [
    "data_dir=os.path.join(os.getcwd(),'Activity Recognition from Single Chest-Mounted Accelerometer/')"
   ]
  },
  {
   "cell_type": "code",
   "execution_count": 67,
   "metadata": {},
   "outputs": [],
   "source": [
    "files = [f for f in os.listdir(data_dir) if f.endswith('.csv')]\n"
   ]
  },
  {
   "cell_type": "code",
   "execution_count": 68,
   "metadata": {},
   "outputs": [
    {
     "data": {
      "text/plain": [
       "['15.csv',\n",
       " '7.csv',\n",
       " '12.csv',\n",
       " '11.csv',\n",
       " '6.csv',\n",
       " '9.csv',\n",
       " '4.csv',\n",
       " '5.csv',\n",
       " '1.csv',\n",
       " '13.csv',\n",
       " '8.csv',\n",
       " '2.csv',\n",
       " '3.csv',\n",
       " '14.csv',\n",
       " '10.csv']"
      ]
     },
     "execution_count": 68,
     "metadata": {},
     "output_type": "execute_result"
    }
   ],
   "source": [
    "files"
   ]
  },
  {
   "cell_type": "markdown",
   "metadata": {},
   "source": [
    "# Reading all files at once"
   ]
  },
  {
   "cell_type": "code",
   "execution_count": 71,
   "metadata": {},
   "outputs": [],
   "source": [
    "s_cols = ['0', '1866', '2390', '2282', '1', 'user']"
   ]
  },
  {
   "cell_type": "code",
   "execution_count": 72,
   "metadata": {},
   "outputs": [
    {
     "data": {
      "text/plain": [
       "['0', '1866', '2390', '2282', '1', 'user']"
      ]
     },
     "execution_count": 72,
     "metadata": {},
     "output_type": "execute_result"
    }
   ],
   "source": [
    "s_cols"
   ]
  },
  {
   "cell_type": "code",
   "execution_count": 13,
   "metadata": {},
   "outputs": [],
   "source": [
    "data=pd.DataFrame()\n",
    "#s_cols=list(df.columns)\n",
    "#s_cols = s_cols + [\"id\"]\n",
    "id=0\n",
    "ids=[]\n",
    "for file_name in  files:\n",
    "        id +=1\n",
    "        df = pd.read_csv(data_dir + str(file_name))\n",
    "        df[\"user\"] =id\n",
    "        df.columns=s_cols\n",
    "        data=pd.concat([data,df],axis=0)\n",
    "        ids.append(id)\n",
    "        "
   ]
  },
  {
   "cell_type": "code",
   "execution_count": 14,
   "metadata": {},
   "outputs": [
    {
     "data": {
      "text/html": [
       "<div>\n",
       "<style scoped>\n",
       "    .dataframe tbody tr th:only-of-type {\n",
       "        vertical-align: middle;\n",
       "    }\n",
       "\n",
       "    .dataframe tbody tr th {\n",
       "        vertical-align: top;\n",
       "    }\n",
       "\n",
       "    .dataframe thead th {\n",
       "        text-align: right;\n",
       "    }\n",
       "</style>\n",
       "<table border=\"1\" class=\"dataframe\">\n",
       "  <thead>\n",
       "    <tr style=\"text-align: right;\">\n",
       "      <th></th>\n",
       "      <th>0</th>\n",
       "      <th>1866</th>\n",
       "      <th>2390</th>\n",
       "      <th>2282</th>\n",
       "      <th>1</th>\n",
       "      <th>user</th>\n",
       "    </tr>\n",
       "  </thead>\n",
       "  <tbody>\n",
       "    <tr>\n",
       "      <th>0</th>\n",
       "      <td>1.0</td>\n",
       "      <td>1861</td>\n",
       "      <td>2367</td>\n",
       "      <td>2278</td>\n",
       "      <td>1</td>\n",
       "      <td>1</td>\n",
       "    </tr>\n",
       "    <tr>\n",
       "      <th>1</th>\n",
       "      <td>2.0</td>\n",
       "      <td>1837</td>\n",
       "      <td>2387</td>\n",
       "      <td>2317</td>\n",
       "      <td>1</td>\n",
       "      <td>1</td>\n",
       "    </tr>\n",
       "    <tr>\n",
       "      <th>2</th>\n",
       "      <td>3.0</td>\n",
       "      <td>1819</td>\n",
       "      <td>2409</td>\n",
       "      <td>2331</td>\n",
       "      <td>1</td>\n",
       "      <td>1</td>\n",
       "    </tr>\n",
       "    <tr>\n",
       "      <th>3</th>\n",
       "      <td>4.0</td>\n",
       "      <td>1784</td>\n",
       "      <td>2407</td>\n",
       "      <td>2280</td>\n",
       "      <td>1</td>\n",
       "      <td>1</td>\n",
       "    </tr>\n",
       "    <tr>\n",
       "      <th>4</th>\n",
       "      <td>5.0</td>\n",
       "      <td>1811</td>\n",
       "      <td>2414</td>\n",
       "      <td>2267</td>\n",
       "      <td>1</td>\n",
       "      <td>1</td>\n",
       "    </tr>\n",
       "    <tr>\n",
       "      <th>...</th>\n",
       "      <td>...</td>\n",
       "      <td>...</td>\n",
       "      <td>...</td>\n",
       "      <td>...</td>\n",
       "      <td>...</td>\n",
       "      <td>...</td>\n",
       "    </tr>\n",
       "    <tr>\n",
       "      <th>126795</th>\n",
       "      <td>126800.0</td>\n",
       "      <td>2140</td>\n",
       "      <td>2471</td>\n",
       "      <td>1866</td>\n",
       "      <td>7</td>\n",
       "      <td>15</td>\n",
       "    </tr>\n",
       "    <tr>\n",
       "      <th>126796</th>\n",
       "      <td>126800.0</td>\n",
       "      <td>2113</td>\n",
       "      <td>2469</td>\n",
       "      <td>1885</td>\n",
       "      <td>7</td>\n",
       "      <td>15</td>\n",
       "    </tr>\n",
       "    <tr>\n",
       "      <th>126797</th>\n",
       "      <td>126800.0</td>\n",
       "      <td>2105</td>\n",
       "      <td>2467</td>\n",
       "      <td>1908</td>\n",
       "      <td>7</td>\n",
       "      <td>15</td>\n",
       "    </tr>\n",
       "    <tr>\n",
       "      <th>126798</th>\n",
       "      <td>126800.0</td>\n",
       "      <td>2096</td>\n",
       "      <td>2482</td>\n",
       "      <td>1924</td>\n",
       "      <td>7</td>\n",
       "      <td>15</td>\n",
       "    </tr>\n",
       "    <tr>\n",
       "      <th>126799</th>\n",
       "      <td>126800.0</td>\n",
       "      <td>2102</td>\n",
       "      <td>2495</td>\n",
       "      <td>1939</td>\n",
       "      <td>0</td>\n",
       "      <td>15</td>\n",
       "    </tr>\n",
       "  </tbody>\n",
       "</table>\n",
       "<p>1926881 rows × 6 columns</p>\n",
       "</div>"
      ],
      "text/plain": [
       "               0  1866  2390  2282  1  user\n",
       "0            1.0  1861  2367  2278  1     1\n",
       "1            2.0  1837  2387  2317  1     1\n",
       "2            3.0  1819  2409  2331  1     1\n",
       "3            4.0  1784  2407  2280  1     1\n",
       "4            5.0  1811  2414  2267  1     1\n",
       "...          ...   ...   ...   ... ..   ...\n",
       "126795  126800.0  2140  2471  1866  7    15\n",
       "126796  126800.0  2113  2469  1885  7    15\n",
       "126797  126800.0  2105  2467  1908  7    15\n",
       "126798  126800.0  2096  2482  1924  7    15\n",
       "126799  126800.0  2102  2495  1939  0    15\n",
       "\n",
       "[1926881 rows x 6 columns]"
      ]
     },
     "execution_count": 14,
     "metadata": {},
     "output_type": "execute_result"
    }
   ],
   "source": [
    "data"
   ]
  },
  {
   "cell_type": "code",
   "execution_count": 15,
   "metadata": {},
   "outputs": [],
   "source": [
    "s_cols=list(df.columns)"
   ]
  },
  {
   "cell_type": "code",
   "execution_count": 16,
   "metadata": {},
   "outputs": [
    {
     "data": {
      "text/html": [
       "<div>\n",
       "<style scoped>\n",
       "    .dataframe tbody tr th:only-of-type {\n",
       "        vertical-align: middle;\n",
       "    }\n",
       "\n",
       "    .dataframe tbody tr th {\n",
       "        vertical-align: top;\n",
       "    }\n",
       "\n",
       "    .dataframe thead th {\n",
       "        text-align: right;\n",
       "    }\n",
       "</style>\n",
       "<table border=\"1\" class=\"dataframe\">\n",
       "  <thead>\n",
       "    <tr style=\"text-align: right;\">\n",
       "      <th></th>\n",
       "      <th>0</th>\n",
       "      <th>1866</th>\n",
       "      <th>2390</th>\n",
       "      <th>2282</th>\n",
       "      <th>1</th>\n",
       "      <th>user</th>\n",
       "    </tr>\n",
       "  </thead>\n",
       "  <tbody>\n",
       "    <tr>\n",
       "      <th>0</th>\n",
       "      <td>1.0</td>\n",
       "      <td>1861</td>\n",
       "      <td>2367</td>\n",
       "      <td>2278</td>\n",
       "      <td>1</td>\n",
       "      <td>1</td>\n",
       "    </tr>\n",
       "    <tr>\n",
       "      <th>1</th>\n",
       "      <td>2.0</td>\n",
       "      <td>1837</td>\n",
       "      <td>2387</td>\n",
       "      <td>2317</td>\n",
       "      <td>1</td>\n",
       "      <td>1</td>\n",
       "    </tr>\n",
       "    <tr>\n",
       "      <th>2</th>\n",
       "      <td>3.0</td>\n",
       "      <td>1819</td>\n",
       "      <td>2409</td>\n",
       "      <td>2331</td>\n",
       "      <td>1</td>\n",
       "      <td>1</td>\n",
       "    </tr>\n",
       "    <tr>\n",
       "      <th>3</th>\n",
       "      <td>4.0</td>\n",
       "      <td>1784</td>\n",
       "      <td>2407</td>\n",
       "      <td>2280</td>\n",
       "      <td>1</td>\n",
       "      <td>1</td>\n",
       "    </tr>\n",
       "    <tr>\n",
       "      <th>4</th>\n",
       "      <td>5.0</td>\n",
       "      <td>1811</td>\n",
       "      <td>2414</td>\n",
       "      <td>2267</td>\n",
       "      <td>1</td>\n",
       "      <td>1</td>\n",
       "    </tr>\n",
       "    <tr>\n",
       "      <th>...</th>\n",
       "      <td>...</td>\n",
       "      <td>...</td>\n",
       "      <td>...</td>\n",
       "      <td>...</td>\n",
       "      <td>...</td>\n",
       "      <td>...</td>\n",
       "    </tr>\n",
       "    <tr>\n",
       "      <th>126795</th>\n",
       "      <td>126800.0</td>\n",
       "      <td>2140</td>\n",
       "      <td>2471</td>\n",
       "      <td>1866</td>\n",
       "      <td>7</td>\n",
       "      <td>15</td>\n",
       "    </tr>\n",
       "    <tr>\n",
       "      <th>126796</th>\n",
       "      <td>126800.0</td>\n",
       "      <td>2113</td>\n",
       "      <td>2469</td>\n",
       "      <td>1885</td>\n",
       "      <td>7</td>\n",
       "      <td>15</td>\n",
       "    </tr>\n",
       "    <tr>\n",
       "      <th>126797</th>\n",
       "      <td>126800.0</td>\n",
       "      <td>2105</td>\n",
       "      <td>2467</td>\n",
       "      <td>1908</td>\n",
       "      <td>7</td>\n",
       "      <td>15</td>\n",
       "    </tr>\n",
       "    <tr>\n",
       "      <th>126798</th>\n",
       "      <td>126800.0</td>\n",
       "      <td>2096</td>\n",
       "      <td>2482</td>\n",
       "      <td>1924</td>\n",
       "      <td>7</td>\n",
       "      <td>15</td>\n",
       "    </tr>\n",
       "    <tr>\n",
       "      <th>126799</th>\n",
       "      <td>126800.0</td>\n",
       "      <td>2102</td>\n",
       "      <td>2495</td>\n",
       "      <td>1939</td>\n",
       "      <td>0</td>\n",
       "      <td>15</td>\n",
       "    </tr>\n",
       "  </tbody>\n",
       "</table>\n",
       "<p>1926881 rows × 6 columns</p>\n",
       "</div>"
      ],
      "text/plain": [
       "               0  1866  2390  2282  1  user\n",
       "0            1.0  1861  2367  2278  1     1\n",
       "1            2.0  1837  2387  2317  1     1\n",
       "2            3.0  1819  2409  2331  1     1\n",
       "3            4.0  1784  2407  2280  1     1\n",
       "4            5.0  1811  2414  2267  1     1\n",
       "...          ...   ...   ...   ... ..   ...\n",
       "126795  126800.0  2140  2471  1866  7    15\n",
       "126796  126800.0  2113  2469  1885  7    15\n",
       "126797  126800.0  2105  2467  1908  7    15\n",
       "126798  126800.0  2096  2482  1924  7    15\n",
       "126799  126800.0  2102  2495  1939  0    15\n",
       "\n",
       "[1926881 rows x 6 columns]"
      ]
     },
     "execution_count": 16,
     "metadata": {},
     "output_type": "execute_result"
    }
   ],
   "source": [
    "data"
   ]
  },
  {
   "cell_type": "markdown",
   "metadata": {},
   "source": [
    "# Giving column names to data"
   ]
  },
  {
   "cell_type": "code",
   "execution_count": 17,
   "metadata": {},
   "outputs": [],
   "source": [
    "data.columns=([\"sequential number\", \"x acceleration\", \"y acceleration\", \"z acceleration\", \"label\",\"user\"])"
   ]
  },
  {
   "cell_type": "code",
   "execution_count": 18,
   "metadata": {},
   "outputs": [
    {
     "data": {
      "text/html": [
       "<div>\n",
       "<style scoped>\n",
       "    .dataframe tbody tr th:only-of-type {\n",
       "        vertical-align: middle;\n",
       "    }\n",
       "\n",
       "    .dataframe tbody tr th {\n",
       "        vertical-align: top;\n",
       "    }\n",
       "\n",
       "    .dataframe thead th {\n",
       "        text-align: right;\n",
       "    }\n",
       "</style>\n",
       "<table border=\"1\" class=\"dataframe\">\n",
       "  <thead>\n",
       "    <tr style=\"text-align: right;\">\n",
       "      <th></th>\n",
       "      <th>sequential number</th>\n",
       "      <th>x acceleration</th>\n",
       "      <th>y acceleration</th>\n",
       "      <th>z acceleration</th>\n",
       "      <th>label</th>\n",
       "      <th>user</th>\n",
       "    </tr>\n",
       "  </thead>\n",
       "  <tbody>\n",
       "    <tr>\n",
       "      <th>0</th>\n",
       "      <td>1.0</td>\n",
       "      <td>1861</td>\n",
       "      <td>2367</td>\n",
       "      <td>2278</td>\n",
       "      <td>1</td>\n",
       "      <td>1</td>\n",
       "    </tr>\n",
       "    <tr>\n",
       "      <th>1</th>\n",
       "      <td>2.0</td>\n",
       "      <td>1837</td>\n",
       "      <td>2387</td>\n",
       "      <td>2317</td>\n",
       "      <td>1</td>\n",
       "      <td>1</td>\n",
       "    </tr>\n",
       "    <tr>\n",
       "      <th>2</th>\n",
       "      <td>3.0</td>\n",
       "      <td>1819</td>\n",
       "      <td>2409</td>\n",
       "      <td>2331</td>\n",
       "      <td>1</td>\n",
       "      <td>1</td>\n",
       "    </tr>\n",
       "    <tr>\n",
       "      <th>3</th>\n",
       "      <td>4.0</td>\n",
       "      <td>1784</td>\n",
       "      <td>2407</td>\n",
       "      <td>2280</td>\n",
       "      <td>1</td>\n",
       "      <td>1</td>\n",
       "    </tr>\n",
       "    <tr>\n",
       "      <th>4</th>\n",
       "      <td>5.0</td>\n",
       "      <td>1811</td>\n",
       "      <td>2414</td>\n",
       "      <td>2267</td>\n",
       "      <td>1</td>\n",
       "      <td>1</td>\n",
       "    </tr>\n",
       "    <tr>\n",
       "      <th>...</th>\n",
       "      <td>...</td>\n",
       "      <td>...</td>\n",
       "      <td>...</td>\n",
       "      <td>...</td>\n",
       "      <td>...</td>\n",
       "      <td>...</td>\n",
       "    </tr>\n",
       "    <tr>\n",
       "      <th>126795</th>\n",
       "      <td>126800.0</td>\n",
       "      <td>2140</td>\n",
       "      <td>2471</td>\n",
       "      <td>1866</td>\n",
       "      <td>7</td>\n",
       "      <td>15</td>\n",
       "    </tr>\n",
       "    <tr>\n",
       "      <th>126796</th>\n",
       "      <td>126800.0</td>\n",
       "      <td>2113</td>\n",
       "      <td>2469</td>\n",
       "      <td>1885</td>\n",
       "      <td>7</td>\n",
       "      <td>15</td>\n",
       "    </tr>\n",
       "    <tr>\n",
       "      <th>126797</th>\n",
       "      <td>126800.0</td>\n",
       "      <td>2105</td>\n",
       "      <td>2467</td>\n",
       "      <td>1908</td>\n",
       "      <td>7</td>\n",
       "      <td>15</td>\n",
       "    </tr>\n",
       "    <tr>\n",
       "      <th>126798</th>\n",
       "      <td>126800.0</td>\n",
       "      <td>2096</td>\n",
       "      <td>2482</td>\n",
       "      <td>1924</td>\n",
       "      <td>7</td>\n",
       "      <td>15</td>\n",
       "    </tr>\n",
       "    <tr>\n",
       "      <th>126799</th>\n",
       "      <td>126800.0</td>\n",
       "      <td>2102</td>\n",
       "      <td>2495</td>\n",
       "      <td>1939</td>\n",
       "      <td>0</td>\n",
       "      <td>15</td>\n",
       "    </tr>\n",
       "  </tbody>\n",
       "</table>\n",
       "<p>1926881 rows × 6 columns</p>\n",
       "</div>"
      ],
      "text/plain": [
       "        sequential number  x acceleration  y acceleration  z acceleration  \\\n",
       "0                     1.0            1861            2367            2278   \n",
       "1                     2.0            1837            2387            2317   \n",
       "2                     3.0            1819            2409            2331   \n",
       "3                     4.0            1784            2407            2280   \n",
       "4                     5.0            1811            2414            2267   \n",
       "...                   ...             ...             ...             ...   \n",
       "126795           126800.0            2140            2471            1866   \n",
       "126796           126800.0            2113            2469            1885   \n",
       "126797           126800.0            2105            2467            1908   \n",
       "126798           126800.0            2096            2482            1924   \n",
       "126799           126800.0            2102            2495            1939   \n",
       "\n",
       "        label  user  \n",
       "0           1     1  \n",
       "1           1     1  \n",
       "2           1     1  \n",
       "3           1     1  \n",
       "4           1     1  \n",
       "...       ...   ...  \n",
       "126795      7    15  \n",
       "126796      7    15  \n",
       "126797      7    15  \n",
       "126798      7    15  \n",
       "126799      0    15  \n",
       "\n",
       "[1926881 rows x 6 columns]"
      ]
     },
     "execution_count": 18,
     "metadata": {},
     "output_type": "execute_result"
    }
   ],
   "source": [
    "data"
   ]
  },
  {
   "cell_type": "markdown",
   "metadata": {},
   "source": [
    "# Mapping labels to the activities"
   ]
  },
  {
   "cell_type": "code",
   "execution_count": 19,
   "metadata": {},
   "outputs": [],
   "source": [
    "activities = {\n",
    "        1: \"Working at Computer\",\n",
    "        2: \"Standing Up, Walking and Going updown stairs\",\n",
    "        3: \"Standing\",\n",
    "        4: \"Walking\",\n",
    "        5: \"Going UpDown Stairs\",\n",
    "        6: \"Walking and Talking with Someone\",\n",
    "        7: \"Talking while Standin\",        \n",
    "    }"
   ]
  },
  {
   "cell_type": "code",
   "execution_count": 20,
   "metadata": {},
   "outputs": [],
   "source": [
    "data['activity_1']=data.label.map(activities)"
   ]
  },
  {
   "cell_type": "code",
   "execution_count": 21,
   "metadata": {},
   "outputs": [
    {
     "data": {
      "text/html": [
       "<div>\n",
       "<style scoped>\n",
       "    .dataframe tbody tr th:only-of-type {\n",
       "        vertical-align: middle;\n",
       "    }\n",
       "\n",
       "    .dataframe tbody tr th {\n",
       "        vertical-align: top;\n",
       "    }\n",
       "\n",
       "    .dataframe thead th {\n",
       "        text-align: right;\n",
       "    }\n",
       "</style>\n",
       "<table border=\"1\" class=\"dataframe\">\n",
       "  <thead>\n",
       "    <tr style=\"text-align: right;\">\n",
       "      <th></th>\n",
       "      <th>sequential number</th>\n",
       "      <th>x acceleration</th>\n",
       "      <th>y acceleration</th>\n",
       "      <th>z acceleration</th>\n",
       "      <th>label</th>\n",
       "      <th>user</th>\n",
       "      <th>activity_1</th>\n",
       "    </tr>\n",
       "  </thead>\n",
       "  <tbody>\n",
       "    <tr>\n",
       "      <th>0</th>\n",
       "      <td>1.0</td>\n",
       "      <td>1861</td>\n",
       "      <td>2367</td>\n",
       "      <td>2278</td>\n",
       "      <td>1</td>\n",
       "      <td>1</td>\n",
       "      <td>Working at Computer</td>\n",
       "    </tr>\n",
       "    <tr>\n",
       "      <th>1</th>\n",
       "      <td>2.0</td>\n",
       "      <td>1837</td>\n",
       "      <td>2387</td>\n",
       "      <td>2317</td>\n",
       "      <td>1</td>\n",
       "      <td>1</td>\n",
       "      <td>Working at Computer</td>\n",
       "    </tr>\n",
       "    <tr>\n",
       "      <th>2</th>\n",
       "      <td>3.0</td>\n",
       "      <td>1819</td>\n",
       "      <td>2409</td>\n",
       "      <td>2331</td>\n",
       "      <td>1</td>\n",
       "      <td>1</td>\n",
       "      <td>Working at Computer</td>\n",
       "    </tr>\n",
       "    <tr>\n",
       "      <th>3</th>\n",
       "      <td>4.0</td>\n",
       "      <td>1784</td>\n",
       "      <td>2407</td>\n",
       "      <td>2280</td>\n",
       "      <td>1</td>\n",
       "      <td>1</td>\n",
       "      <td>Working at Computer</td>\n",
       "    </tr>\n",
       "    <tr>\n",
       "      <th>4</th>\n",
       "      <td>5.0</td>\n",
       "      <td>1811</td>\n",
       "      <td>2414</td>\n",
       "      <td>2267</td>\n",
       "      <td>1</td>\n",
       "      <td>1</td>\n",
       "      <td>Working at Computer</td>\n",
       "    </tr>\n",
       "    <tr>\n",
       "      <th>...</th>\n",
       "      <td>...</td>\n",
       "      <td>...</td>\n",
       "      <td>...</td>\n",
       "      <td>...</td>\n",
       "      <td>...</td>\n",
       "      <td>...</td>\n",
       "      <td>...</td>\n",
       "    </tr>\n",
       "    <tr>\n",
       "      <th>126795</th>\n",
       "      <td>126800.0</td>\n",
       "      <td>2140</td>\n",
       "      <td>2471</td>\n",
       "      <td>1866</td>\n",
       "      <td>7</td>\n",
       "      <td>15</td>\n",
       "      <td>Talking while Standin</td>\n",
       "    </tr>\n",
       "    <tr>\n",
       "      <th>126796</th>\n",
       "      <td>126800.0</td>\n",
       "      <td>2113</td>\n",
       "      <td>2469</td>\n",
       "      <td>1885</td>\n",
       "      <td>7</td>\n",
       "      <td>15</td>\n",
       "      <td>Talking while Standin</td>\n",
       "    </tr>\n",
       "    <tr>\n",
       "      <th>126797</th>\n",
       "      <td>126800.0</td>\n",
       "      <td>2105</td>\n",
       "      <td>2467</td>\n",
       "      <td>1908</td>\n",
       "      <td>7</td>\n",
       "      <td>15</td>\n",
       "      <td>Talking while Standin</td>\n",
       "    </tr>\n",
       "    <tr>\n",
       "      <th>126798</th>\n",
       "      <td>126800.0</td>\n",
       "      <td>2096</td>\n",
       "      <td>2482</td>\n",
       "      <td>1924</td>\n",
       "      <td>7</td>\n",
       "      <td>15</td>\n",
       "      <td>Talking while Standin</td>\n",
       "    </tr>\n",
       "    <tr>\n",
       "      <th>126799</th>\n",
       "      <td>126800.0</td>\n",
       "      <td>2102</td>\n",
       "      <td>2495</td>\n",
       "      <td>1939</td>\n",
       "      <td>0</td>\n",
       "      <td>15</td>\n",
       "      <td>NaN</td>\n",
       "    </tr>\n",
       "  </tbody>\n",
       "</table>\n",
       "<p>1926881 rows × 7 columns</p>\n",
       "</div>"
      ],
      "text/plain": [
       "        sequential number  x acceleration  y acceleration  z acceleration  \\\n",
       "0                     1.0            1861            2367            2278   \n",
       "1                     2.0            1837            2387            2317   \n",
       "2                     3.0            1819            2409            2331   \n",
       "3                     4.0            1784            2407            2280   \n",
       "4                     5.0            1811            2414            2267   \n",
       "...                   ...             ...             ...             ...   \n",
       "126795           126800.0            2140            2471            1866   \n",
       "126796           126800.0            2113            2469            1885   \n",
       "126797           126800.0            2105            2467            1908   \n",
       "126798           126800.0            2096            2482            1924   \n",
       "126799           126800.0            2102            2495            1939   \n",
       "\n",
       "        label  user             activity_1  \n",
       "0           1     1    Working at Computer  \n",
       "1           1     1    Working at Computer  \n",
       "2           1     1    Working at Computer  \n",
       "3           1     1    Working at Computer  \n",
       "4           1     1    Working at Computer  \n",
       "...       ...   ...                    ...  \n",
       "126795      7    15  Talking while Standin  \n",
       "126796      7    15  Talking while Standin  \n",
       "126797      7    15  Talking while Standin  \n",
       "126798      7    15  Talking while Standin  \n",
       "126799      0    15                    NaN  \n",
       "\n",
       "[1926881 rows x 7 columns]"
      ]
     },
     "execution_count": 21,
     "metadata": {},
     "output_type": "execute_result"
    }
   ],
   "source": [
    "data"
   ]
  },
  {
   "cell_type": "code",
   "execution_count": 22,
   "metadata": {},
   "outputs": [
    {
     "data": {
      "text/html": [
       "<div>\n",
       "<style scoped>\n",
       "    .dataframe tbody tr th:only-of-type {\n",
       "        vertical-align: middle;\n",
       "    }\n",
       "\n",
       "    .dataframe tbody tr th {\n",
       "        vertical-align: top;\n",
       "    }\n",
       "\n",
       "    .dataframe thead th {\n",
       "        text-align: right;\n",
       "    }\n",
       "</style>\n",
       "<table border=\"1\" class=\"dataframe\">\n",
       "  <thead>\n",
       "    <tr style=\"text-align: right;\">\n",
       "      <th></th>\n",
       "      <th>sequential number</th>\n",
       "      <th>x acceleration</th>\n",
       "      <th>y acceleration</th>\n",
       "      <th>z acceleration</th>\n",
       "      <th>label</th>\n",
       "      <th>user</th>\n",
       "    </tr>\n",
       "  </thead>\n",
       "  <tbody>\n",
       "    <tr>\n",
       "      <th>count</th>\n",
       "      <td>1.926881e+06</td>\n",
       "      <td>1.926881e+06</td>\n",
       "      <td>1.926881e+06</td>\n",
       "      <td>1.926881e+06</td>\n",
       "      <td>1.926881e+06</td>\n",
       "      <td>1.926881e+06</td>\n",
       "    </tr>\n",
       "    <tr>\n",
       "      <th>mean</th>\n",
       "      <td>6.711335e+04</td>\n",
       "      <td>1.987653e+03</td>\n",
       "      <td>2.382524e+03</td>\n",
       "      <td>1.970597e+03</td>\n",
       "      <td>3.882921e+00</td>\n",
       "      <td>7.889726e+00</td>\n",
       "    </tr>\n",
       "    <tr>\n",
       "      <th>std</th>\n",
       "      <td>4.146165e+04</td>\n",
       "      <td>1.113573e+02</td>\n",
       "      <td>1.003132e+02</td>\n",
       "      <td>9.445699e+01</td>\n",
       "      <td>2.443399e+00</td>\n",
       "      <td>4.221955e+00</td>\n",
       "    </tr>\n",
       "    <tr>\n",
       "      <th>min</th>\n",
       "      <td>1.000000e+00</td>\n",
       "      <td>2.820000e+02</td>\n",
       "      <td>2.000000e+00</td>\n",
       "      <td>1.000000e+00</td>\n",
       "      <td>0.000000e+00</td>\n",
       "      <td>1.000000e+00</td>\n",
       "    </tr>\n",
       "    <tr>\n",
       "      <th>25%</th>\n",
       "      <td>3.211500e+04</td>\n",
       "      <td>1.904000e+03</td>\n",
       "      <td>2.337000e+03</td>\n",
       "      <td>1.918000e+03</td>\n",
       "      <td>1.000000e+00</td>\n",
       "      <td>4.000000e+00</td>\n",
       "    </tr>\n",
       "    <tr>\n",
       "      <th>50%</th>\n",
       "      <td>6.423000e+04</td>\n",
       "      <td>1.992000e+03</td>\n",
       "      <td>2.367000e+03</td>\n",
       "      <td>1.988000e+03</td>\n",
       "      <td>4.000000e+00</td>\n",
       "      <td>8.000000e+00</td>\n",
       "    </tr>\n",
       "    <tr>\n",
       "      <th>75%</th>\n",
       "      <td>9.839400e+04</td>\n",
       "      <td>2.076000e+03</td>\n",
       "      <td>2.413000e+03</td>\n",
       "      <td>2.032000e+03</td>\n",
       "      <td>7.000000e+00</td>\n",
       "      <td>1.200000e+01</td>\n",
       "    </tr>\n",
       "    <tr>\n",
       "      <th>max</th>\n",
       "      <td>1.667400e+05</td>\n",
       "      <td>3.828000e+03</td>\n",
       "      <td>4.095000e+03</td>\n",
       "      <td>4.095000e+03</td>\n",
       "      <td>7.000000e+00</td>\n",
       "      <td>1.500000e+01</td>\n",
       "    </tr>\n",
       "  </tbody>\n",
       "</table>\n",
       "</div>"
      ],
      "text/plain": [
       "       sequential number  x acceleration  y acceleration  z acceleration  \\\n",
       "count       1.926881e+06    1.926881e+06    1.926881e+06    1.926881e+06   \n",
       "mean        6.711335e+04    1.987653e+03    2.382524e+03    1.970597e+03   \n",
       "std         4.146165e+04    1.113573e+02    1.003132e+02    9.445699e+01   \n",
       "min         1.000000e+00    2.820000e+02    2.000000e+00    1.000000e+00   \n",
       "25%         3.211500e+04    1.904000e+03    2.337000e+03    1.918000e+03   \n",
       "50%         6.423000e+04    1.992000e+03    2.367000e+03    1.988000e+03   \n",
       "75%         9.839400e+04    2.076000e+03    2.413000e+03    2.032000e+03   \n",
       "max         1.667400e+05    3.828000e+03    4.095000e+03    4.095000e+03   \n",
       "\n",
       "              label          user  \n",
       "count  1.926881e+06  1.926881e+06  \n",
       "mean   3.882921e+00  7.889726e+00  \n",
       "std    2.443399e+00  4.221955e+00  \n",
       "min    0.000000e+00  1.000000e+00  \n",
       "25%    1.000000e+00  4.000000e+00  \n",
       "50%    4.000000e+00  8.000000e+00  \n",
       "75%    7.000000e+00  1.200000e+01  \n",
       "max    7.000000e+00  1.500000e+01  "
      ]
     },
     "execution_count": 22,
     "metadata": {},
     "output_type": "execute_result"
    }
   ],
   "source": [
    "data.describe()"
   ]
  },
  {
   "cell_type": "code",
   "execution_count": 23,
   "metadata": {},
   "outputs": [
    {
     "name": "stdout",
     "output_type": "stream",
     "text": [
      "<class 'pandas.core.frame.DataFrame'>\n",
      "Int64Index: 1926881 entries, 0 to 126799\n",
      "Data columns (total 7 columns):\n",
      " #   Column             Dtype  \n",
      "---  ------             -----  \n",
      " 0   sequential number  float64\n",
      " 1   x acceleration     int64  \n",
      " 2   y acceleration     int64  \n",
      " 3   z acceleration     int64  \n",
      " 4   label              int64  \n",
      " 5   user               int64  \n",
      " 6   activity_1         object \n",
      "dtypes: float64(1), int64(5), object(1)\n",
      "memory usage: 117.6+ MB\n"
     ]
    }
   ],
   "source": [
    "data.info()"
   ]
  },
  {
   "cell_type": "code",
   "execution_count": 24,
   "metadata": {},
   "outputs": [
    {
     "data": {
      "text/plain": [
       "(1926881, 7)"
      ]
     },
     "execution_count": 24,
     "metadata": {},
     "output_type": "execute_result"
    }
   ],
   "source": [
    "data.shape"
   ]
  },
  {
   "cell_type": "code",
   "execution_count": 25,
   "metadata": {},
   "outputs": [],
   "source": [
    "a=pd.crosstab(data.user,data.activity_1)"
   ]
  },
  {
   "cell_type": "code",
   "execution_count": 26,
   "metadata": {},
   "outputs": [
    {
     "data": {
      "text/html": [
       "<div>\n",
       "<style scoped>\n",
       "    .dataframe tbody tr th:only-of-type {\n",
       "        vertical-align: middle;\n",
       "    }\n",
       "\n",
       "    .dataframe tbody tr th {\n",
       "        vertical-align: top;\n",
       "    }\n",
       "\n",
       "    .dataframe thead th {\n",
       "        text-align: right;\n",
       "    }\n",
       "</style>\n",
       "<table border=\"1\" class=\"dataframe\">\n",
       "  <thead>\n",
       "    <tr style=\"text-align: right;\">\n",
       "      <th>activity_1</th>\n",
       "      <th>Going UpDown Stairs</th>\n",
       "      <th>Standing</th>\n",
       "      <th>Standing Up, Walking and Going updown stairs</th>\n",
       "      <th>Talking while Standin</th>\n",
       "      <th>Walking</th>\n",
       "      <th>Walking and Talking with Someone</th>\n",
       "      <th>Working at Computer</th>\n",
       "    </tr>\n",
       "    <tr>\n",
       "      <th>user</th>\n",
       "      <th></th>\n",
       "      <th></th>\n",
       "      <th></th>\n",
       "      <th></th>\n",
       "      <th></th>\n",
       "      <th></th>\n",
       "      <th></th>\n",
       "    </tr>\n",
       "  </thead>\n",
       "  <tbody>\n",
       "    <tr>\n",
       "      <th>1</th>\n",
       "      <td>3300</td>\n",
       "      <td>7910</td>\n",
       "      <td>4680</td>\n",
       "      <td>17500</td>\n",
       "      <td>17510</td>\n",
       "      <td>1000</td>\n",
       "      <td>51599</td>\n",
       "    </tr>\n",
       "    <tr>\n",
       "      <th>2</th>\n",
       "      <td>2960</td>\n",
       "      <td>10519</td>\n",
       "      <td>3600</td>\n",
       "      <td>83701</td>\n",
       "      <td>26770</td>\n",
       "      <td>2700</td>\n",
       "      <td>32749</td>\n",
       "    </tr>\n",
       "    <tr>\n",
       "      <th>3</th>\n",
       "      <td>3650</td>\n",
       "      <td>11730</td>\n",
       "      <td>4340</td>\n",
       "      <td>14901</td>\n",
       "      <td>30130</td>\n",
       "      <td>1200</td>\n",
       "      <td>48749</td>\n",
       "    </tr>\n",
       "    <tr>\n",
       "      <th>4</th>\n",
       "      <td>3225</td>\n",
       "      <td>8775</td>\n",
       "      <td>2330</td>\n",
       "      <td>17151</td>\n",
       "      <td>17750</td>\n",
       "      <td>1049</td>\n",
       "      <td>54169</td>\n",
       "    </tr>\n",
       "    <tr>\n",
       "      <th>5</th>\n",
       "      <td>3935</td>\n",
       "      <td>23495</td>\n",
       "      <td>3460</td>\n",
       "      <td>36711</td>\n",
       "      <td>22040</td>\n",
       "      <td>6989</td>\n",
       "      <td>44039</td>\n",
       "    </tr>\n",
       "    <tr>\n",
       "      <th>6</th>\n",
       "      <td>3115</td>\n",
       "      <td>11330</td>\n",
       "      <td>320</td>\n",
       "      <td>83660</td>\n",
       "      <td>26730</td>\n",
       "      <td>2495</td>\n",
       "      <td>36089</td>\n",
       "    </tr>\n",
       "    <tr>\n",
       "      <th>7</th>\n",
       "      <td>3745</td>\n",
       "      <td>21405</td>\n",
       "      <td>4810</td>\n",
       "      <td>35490</td>\n",
       "      <td>23300</td>\n",
       "      <td>1910</td>\n",
       "      <td>31539</td>\n",
       "    </tr>\n",
       "    <tr>\n",
       "      <th>8</th>\n",
       "      <td>3000</td>\n",
       "      <td>13420</td>\n",
       "      <td>5370</td>\n",
       "      <td>77600</td>\n",
       "      <td>26750</td>\n",
       "      <td>2880</td>\n",
       "      <td>30979</td>\n",
       "    </tr>\n",
       "    <tr>\n",
       "      <th>9</th>\n",
       "      <td>3191</td>\n",
       "      <td>11179</td>\n",
       "      <td>928</td>\n",
       "      <td>83748</td>\n",
       "      <td>26860</td>\n",
       "      <td>2917</td>\n",
       "      <td>33676</td>\n",
       "    </tr>\n",
       "    <tr>\n",
       "      <th>10</th>\n",
       "      <td>3400</td>\n",
       "      <td>8220</td>\n",
       "      <td>1650</td>\n",
       "      <td>17249</td>\n",
       "      <td>17650</td>\n",
       "      <td>1201</td>\n",
       "      <td>18279</td>\n",
       "    </tr>\n",
       "    <tr>\n",
       "      <th>11</th>\n",
       "      <td>3900</td>\n",
       "      <td>24605</td>\n",
       "      <td>3485</td>\n",
       "      <td>33750</td>\n",
       "      <td>22035</td>\n",
       "      <td>5980</td>\n",
       "      <td>44039</td>\n",
       "    </tr>\n",
       "    <tr>\n",
       "      <th>12</th>\n",
       "      <td>3910</td>\n",
       "      <td>23475</td>\n",
       "      <td>3490</td>\n",
       "      <td>33431</td>\n",
       "      <td>22175</td>\n",
       "      <td>7100</td>\n",
       "      <td>44149</td>\n",
       "    </tr>\n",
       "    <tr>\n",
       "      <th>13</th>\n",
       "      <td>2657</td>\n",
       "      <td>4293</td>\n",
       "      <td>5475</td>\n",
       "      <td>20940</td>\n",
       "      <td>25900</td>\n",
       "      <td>1400</td>\n",
       "      <td>41674</td>\n",
       "    </tr>\n",
       "    <tr>\n",
       "      <th>14</th>\n",
       "      <td>3620</td>\n",
       "      <td>12785</td>\n",
       "      <td>505</td>\n",
       "      <td>15500</td>\n",
       "      <td>29315</td>\n",
       "      <td>1500</td>\n",
       "      <td>52874</td>\n",
       "    </tr>\n",
       "    <tr>\n",
       "      <th>15</th>\n",
       "      <td>3890</td>\n",
       "      <td>23596</td>\n",
       "      <td>3435</td>\n",
       "      <td>22231</td>\n",
       "      <td>22149</td>\n",
       "      <td>7449</td>\n",
       "      <td>44049</td>\n",
       "    </tr>\n",
       "  </tbody>\n",
       "</table>\n",
       "</div>"
      ],
      "text/plain": [
       "activity_1  Going UpDown Stairs  Standing  \\\n",
       "user                                        \n",
       "1                          3300      7910   \n",
       "2                          2960     10519   \n",
       "3                          3650     11730   \n",
       "4                          3225      8775   \n",
       "5                          3935     23495   \n",
       "6                          3115     11330   \n",
       "7                          3745     21405   \n",
       "8                          3000     13420   \n",
       "9                          3191     11179   \n",
       "10                         3400      8220   \n",
       "11                         3900     24605   \n",
       "12                         3910     23475   \n",
       "13                         2657      4293   \n",
       "14                         3620     12785   \n",
       "15                         3890     23596   \n",
       "\n",
       "activity_1  Standing Up, Walking and Going updown stairs  \\\n",
       "user                                                       \n",
       "1                                                   4680   \n",
       "2                                                   3600   \n",
       "3                                                   4340   \n",
       "4                                                   2330   \n",
       "5                                                   3460   \n",
       "6                                                    320   \n",
       "7                                                   4810   \n",
       "8                                                   5370   \n",
       "9                                                    928   \n",
       "10                                                  1650   \n",
       "11                                                  3485   \n",
       "12                                                  3490   \n",
       "13                                                  5475   \n",
       "14                                                   505   \n",
       "15                                                  3435   \n",
       "\n",
       "activity_1  Talking while Standin  Walking  Walking and Talking with Someone  \\\n",
       "user                                                                           \n",
       "1                           17500    17510                              1000   \n",
       "2                           83701    26770                              2700   \n",
       "3                           14901    30130                              1200   \n",
       "4                           17151    17750                              1049   \n",
       "5                           36711    22040                              6989   \n",
       "6                           83660    26730                              2495   \n",
       "7                           35490    23300                              1910   \n",
       "8                           77600    26750                              2880   \n",
       "9                           83748    26860                              2917   \n",
       "10                          17249    17650                              1201   \n",
       "11                          33750    22035                              5980   \n",
       "12                          33431    22175                              7100   \n",
       "13                          20940    25900                              1400   \n",
       "14                          15500    29315                              1500   \n",
       "15                          22231    22149                              7449   \n",
       "\n",
       "activity_1  Working at Computer  \n",
       "user                             \n",
       "1                         51599  \n",
       "2                         32749  \n",
       "3                         48749  \n",
       "4                         54169  \n",
       "5                         44039  \n",
       "6                         36089  \n",
       "7                         31539  \n",
       "8                         30979  \n",
       "9                         33676  \n",
       "10                        18279  \n",
       "11                        44039  \n",
       "12                        44149  \n",
       "13                        41674  \n",
       "14                        52874  \n",
       "15                        44049  "
      ]
     },
     "execution_count": 26,
     "metadata": {},
     "output_type": "execute_result"
    }
   ],
   "source": [
    "a"
   ]
  },
  {
   "cell_type": "code",
   "execution_count": 27,
   "metadata": {},
   "outputs": [
    {
     "data": {
      "text/plain": [
       "<matplotlib.axes._subplots.AxesSubplot at 0x7f105cfd1f98>"
      ]
     },
     "execution_count": 27,
     "metadata": {},
     "output_type": "execute_result"
    },
    {
     "data": {
      "image/png": "[encoded data removed]",
      "text/plain": [
       "<Figure size 432x288 with 1 Axes>"
      ]
     },
     "metadata": {
      "needs_background": "light"
     },
     "output_type": "display_data"
    }
   ],
   "source": [
    "a.plot(kind='bar')"
   ]
  },
  {
   "cell_type": "code",
   "execution_count": 28,
   "metadata": {},
   "outputs": [
    {
     "data": {
      "text/plain": [
       "sequential number       0\n",
       "x acceleration          0\n",
       "y acceleration          0\n",
       "z acceleration          0\n",
       "label                   0\n",
       "user                    0\n",
       "activity_1           3719\n",
       "dtype: int64"
      ]
     },
     "execution_count": 28,
     "metadata": {},
     "output_type": "execute_result"
    }
   ],
   "source": [
    "data.isnull().sum()"
   ]
  },
  {
   "cell_type": "markdown",
   "metadata": {},
   "source": [
    "# Checking null values in the data"
   ]
  },
  {
   "cell_type": "code",
   "execution_count": 29,
   "metadata": {},
   "outputs": [
    {
     "data": {
      "text/html": [
       "<div>\n",
       "<style scoped>\n",
       "    .dataframe tbody tr th:only-of-type {\n",
       "        vertical-align: middle;\n",
       "    }\n",
       "\n",
       "    .dataframe tbody tr th {\n",
       "        vertical-align: top;\n",
       "    }\n",
       "\n",
       "    .dataframe thead th {\n",
       "        text-align: right;\n",
       "    }\n",
       "</style>\n",
       "<table border=\"1\" class=\"dataframe\">\n",
       "  <thead>\n",
       "    <tr style=\"text-align: right;\">\n",
       "      <th></th>\n",
       "      <th>sequential number</th>\n",
       "      <th>x acceleration</th>\n",
       "      <th>y acceleration</th>\n",
       "      <th>z acceleration</th>\n",
       "      <th>label</th>\n",
       "      <th>user</th>\n",
       "      <th>activity_1</th>\n",
       "    </tr>\n",
       "  </thead>\n",
       "  <tbody>\n",
       "    <tr>\n",
       "      <th>103499</th>\n",
       "      <td>103500.0</td>\n",
       "      <td>1999</td>\n",
       "      <td>2532</td>\n",
       "      <td>1996</td>\n",
       "      <td>0</td>\n",
       "      <td>1</td>\n",
       "      <td>NaN</td>\n",
       "    </tr>\n",
       "    <tr>\n",
       "      <th>162999</th>\n",
       "      <td>163000.0</td>\n",
       "      <td>2058</td>\n",
       "      <td>2405</td>\n",
       "      <td>1943</td>\n",
       "      <td>0</td>\n",
       "      <td>2</td>\n",
       "      <td>NaN</td>\n",
       "    </tr>\n",
       "    <tr>\n",
       "      <th>114700</th>\n",
       "      <td>114700.0</td>\n",
       "      <td>1758</td>\n",
       "      <td>2303</td>\n",
       "      <td>2017</td>\n",
       "      <td>0</td>\n",
       "      <td>3</td>\n",
       "      <td>NaN</td>\n",
       "    </tr>\n",
       "    <tr>\n",
       "      <th>104449</th>\n",
       "      <td>104450.0</td>\n",
       "      <td>2038</td>\n",
       "      <td>2347</td>\n",
       "      <td>2041</td>\n",
       "      <td>0</td>\n",
       "      <td>4</td>\n",
       "      <td>NaN</td>\n",
       "    </tr>\n",
       "    <tr>\n",
       "      <th>47499</th>\n",
       "      <td>47500.0</td>\n",
       "      <td>1991</td>\n",
       "      <td>2322</td>\n",
       "      <td>1928</td>\n",
       "      <td>0</td>\n",
       "      <td>5</td>\n",
       "      <td>NaN</td>\n",
       "    </tr>\n",
       "    <tr>\n",
       "      <th>...</th>\n",
       "      <td>...</td>\n",
       "      <td>...</td>\n",
       "      <td>...</td>\n",
       "      <td>...</td>\n",
       "      <td>...</td>\n",
       "      <td>...</td>\n",
       "      <td>...</td>\n",
       "    </tr>\n",
       "    <tr>\n",
       "      <th>104567</th>\n",
       "      <td>104570.0</td>\n",
       "      <td>2147</td>\n",
       "      <td>2341</td>\n",
       "      <td>1948</td>\n",
       "      <td>0</td>\n",
       "      <td>12</td>\n",
       "      <td>NaN</td>\n",
       "    </tr>\n",
       "    <tr>\n",
       "      <th>137999</th>\n",
       "      <td>138000.0</td>\n",
       "      <td>2144</td>\n",
       "      <td>2324</td>\n",
       "      <td>1975</td>\n",
       "      <td>0</td>\n",
       "      <td>12</td>\n",
       "      <td>NaN</td>\n",
       "    </tr>\n",
       "    <tr>\n",
       "      <th>102339</th>\n",
       "      <td>102340.0</td>\n",
       "      <td>1983</td>\n",
       "      <td>2366</td>\n",
       "      <td>1896</td>\n",
       "      <td>0</td>\n",
       "      <td>13</td>\n",
       "      <td>NaN</td>\n",
       "    </tr>\n",
       "    <tr>\n",
       "      <th>116099</th>\n",
       "      <td>116100.0</td>\n",
       "      <td>1880</td>\n",
       "      <td>2366</td>\n",
       "      <td>1942</td>\n",
       "      <td>0</td>\n",
       "      <td>14</td>\n",
       "      <td>NaN</td>\n",
       "    </tr>\n",
       "    <tr>\n",
       "      <th>126799</th>\n",
       "      <td>126800.0</td>\n",
       "      <td>2102</td>\n",
       "      <td>2495</td>\n",
       "      <td>1939</td>\n",
       "      <td>0</td>\n",
       "      <td>15</td>\n",
       "      <td>NaN</td>\n",
       "    </tr>\n",
       "  </tbody>\n",
       "</table>\n",
       "<p>3719 rows × 7 columns</p>\n",
       "</div>"
      ],
      "text/plain": [
       "        sequential number  x acceleration  y acceleration  z acceleration  \\\n",
       "103499           103500.0            1999            2532            1996   \n",
       "162999           163000.0            2058            2405            1943   \n",
       "114700           114700.0            1758            2303            2017   \n",
       "104449           104450.0            2038            2347            2041   \n",
       "47499             47500.0            1991            2322            1928   \n",
       "...                   ...             ...             ...             ...   \n",
       "104567           104570.0            2147            2341            1948   \n",
       "137999           138000.0            2144            2324            1975   \n",
       "102339           102340.0            1983            2366            1896   \n",
       "116099           116100.0            1880            2366            1942   \n",
       "126799           126800.0            2102            2495            1939   \n",
       "\n",
       "        label  user activity_1  \n",
       "103499      0     1        NaN  \n",
       "162999      0     2        NaN  \n",
       "114700      0     3        NaN  \n",
       "104449      0     4        NaN  \n",
       "47499       0     5        NaN  \n",
       "...       ...   ...        ...  \n",
       "104567      0    12        NaN  \n",
       "137999      0    12        NaN  \n",
       "102339      0    13        NaN  \n",
       "116099      0    14        NaN  \n",
       "126799      0    15        NaN  \n",
       "\n",
       "[3719 rows x 7 columns]"
      ]
     },
     "execution_count": 29,
     "metadata": {},
     "output_type": "execute_result"
    }
   ],
   "source": [
    "data[data['activity_1'].isnull()]"
   ]
  },
  {
   "cell_type": "markdown",
   "metadata": {},
   "source": [
    "# Replacing null values with no activity"
   ]
  },
  {
   "cell_type": "code",
   "execution_count": 30,
   "metadata": {},
   "outputs": [],
   "source": [
    "data['activity_1']=data['activity_1'].fillna('No_activity')"
   ]
  },
  {
   "cell_type": "code",
   "execution_count": 31,
   "metadata": {},
   "outputs": [
    {
     "data": {
      "text/plain": [
       "sequential number    0\n",
       "x acceleration       0\n",
       "y acceleration       0\n",
       "z acceleration       0\n",
       "label                0\n",
       "user                 0\n",
       "activity_1           0\n",
       "dtype: int64"
      ]
     },
     "execution_count": 31,
     "metadata": {},
     "output_type": "execute_result"
    }
   ],
   "source": [
    "data.isnull().sum()"
   ]
  },
  {
   "cell_type": "code",
   "execution_count": 32,
   "metadata": {},
   "outputs": [
    {
     "data": {
      "text/plain": [
       "<matplotlib.axes._subplots.AxesSubplot at 0x7f105add0dd8>"
      ]
     },
     "execution_count": 32,
     "metadata": {},
     "output_type": "execute_result"
    },
    {
     "data": {
      "image/png": "[encoded data removed]",
      "text/plain": [
       "<Figure size 432x288 with 1 Axes>"
      ]
     },
     "metadata": {
      "needs_background": "light"
     },
     "output_type": "display_data"
    }
   ],
   "source": [
    "sns.boxplot(x=data['label'],data=data)"
   ]
  },
  {
   "cell_type": "markdown",
   "metadata": {},
   "source": [
    "# Checking the distribution of the data"
   ]
  },
  {
   "cell_type": "code",
   "execution_count": 33,
   "metadata": {},
   "outputs": [
    {
     "data": {
      "image/png": "[encoded data removed]",
      "text/plain": [
       "<Figure size 1440x360 with 1 Axes>"
      ]
     },
     "metadata": {
      "needs_background": "light"
     },
     "output_type": "display_data"
    }
   ],
   "source": [
    "test = pd.crosstab(index=data.iloc[:, -1], columns=data.iloc[:, -2])\n",
    "test.plot(kind = \"barh\", stacked = True, figsize = (20, 5));"
   ]
  },
  {
   "cell_type": "code",
   "execution_count": 34,
   "metadata": {},
   "outputs": [
    {
     "data": {
      "text/plain": [
       "1    608652\n",
       "7    593563\n",
       "4    357064\n",
       "3    216737\n",
       "5     51498\n",
       "2     47878\n",
       "6     47770\n",
       "0      3719\n",
       "Name: label, dtype: int64"
      ]
     },
     "execution_count": 34,
     "metadata": {},
     "output_type": "execute_result"
    }
   ],
   "source": [
    "data['label'].value_counts()"
   ]
  },
  {
   "cell_type": "code",
   "execution_count": 35,
   "metadata": {},
   "outputs": [
    {
     "data": {
      "text/plain": [
       "Working at Computer                             608652\n",
       "Talking while Standin                           593563\n",
       "Walking                                         357064\n",
       "Standing                                        216737\n",
       "Going UpDown Stairs                              51498\n",
       "Standing Up, Walking and Going updown stairs     47878\n",
       "Walking and Talking with Someone                 47770\n",
       "No_activity                                       3719\n",
       "Name: activity_1, dtype: int64"
      ]
     },
     "execution_count": 35,
     "metadata": {},
     "output_type": "execute_result"
    }
   ],
   "source": [
    "data['activity_1'].value_counts()"
   ]
  },
  {
   "cell_type": "code",
   "execution_count": 36,
   "metadata": {},
   "outputs": [
    {
     "data": {
      "image/png": "[encoded data removed]",
      "text/plain": [
       "<Figure size 648x648 with 1 Axes>"
      ]
     },
     "metadata": {},
     "output_type": "display_data"
    }
   ],
   "source": [
    "# plotting a donut chart \n",
    "\n",
    "size = [608652,593563,357064,216737,51498,47878,47770,3719]\n",
    "colors = ['pink', 'purple','red','yellow','blue','green','grey',\"orange\"]\n",
    "labels = \"Working at Computer\", \"Talking while Standin\",\"Walking\",\"Standing\",\"Going UpDown Stairs\",\"Standing Up, Walking and Going updown stairs \",\"Walking and Talking with Someone\",\"No_activity \"\n",
    "\n",
    "my_circle = plt.Circle((0, 0), 0.7, color = 'white')\n",
    "\n",
    "plt.rcParams['figure.figsize'] = (9, 9)\n",
    "plt.pie(size, colors = colors, labels = labels, shadow = True, autopct = '%.2f%%')\n",
    "plt.title('Activity_distribution', fontsize = 30)\n",
    "p = plt.gcf()\n",
    "p.gca().add_artist(my_circle)\n",
    "plt.legend()\n",
    "plt.show()"
   ]
  },
  {
   "cell_type": "code",
   "execution_count": 37,
   "metadata": {},
   "outputs": [
    {
     "data": {
      "text/plain": [
       "(array([0, 1, 2, 3, 4, 5, 6, 7]), <a list of 8 Text xticklabel objects>)"
      ]
     },
     "execution_count": 37,
     "metadata": {},
     "output_type": "execute_result"
    },
    {
     "data": {
      "image/png": "[encoded data removed]",
      "text/plain": [
       "<Figure size 720x432 with 1 Axes>"
      ]
     },
     "metadata": {
      "needs_background": "light"
     },
     "output_type": "display_data"
    }
   ],
   "source": [
    "plt.figure(figsize = (10,6))\n",
    "sns.barplot(x='activity_1', y = 'user', data = data)\n",
    "plt.xticks(rotation = '70')"
   ]
  },
  {
   "cell_type": "code",
   "execution_count": 38,
   "metadata": {},
   "outputs": [
    {
     "data": {
      "text/plain": [
       "Text(0.5, 1.0, 'Activity histogram')"
      ]
     },
     "execution_count": 38,
     "metadata": {},
     "output_type": "execute_result"
    },
    {
     "data": {
      "image/png": "[encoded data removed]",
      "text/plain": [
       "<Figure size 648x648 with 1 Axes>"
      ]
     },
     "metadata": {
      "needs_background": "light"
     },
     "output_type": "display_data"
    }
   ],
   "source": [
    "sns.distplot(data['label'], hist=True, kde=False, \n",
    "             bins=10, color = 'blue',\n",
    "             hist_kws={'edgecolor':'black'}).set_title(\"Activity histogram\")"
   ]
  },
  {
   "cell_type": "code",
   "execution_count": 39,
   "metadata": {},
   "outputs": [
    {
     "data": {
      "text/plain": [
       "<matplotlib.axes._subplots.AxesSubplot at 0x7f105acefb38>"
      ]
     },
     "execution_count": 39,
     "metadata": {},
     "output_type": "execute_result"
    },
    {
     "data": {
      "image/png": "[encoded data removed]",
      "text/plain": [
       "<Figure size 648x648 with 1 Axes>"
      ]
     },
     "metadata": {
      "needs_background": "light"
     },
     "output_type": "display_data"
    }
   ],
   "source": [
    "sns.countplot(x=data.label)"
   ]
  },
  {
   "cell_type": "code",
   "execution_count": 40,
   "metadata": {},
   "outputs": [
    {
     "data": {
      "text/plain": [
       "user  activity_1                                  \n",
       "1     Working at Computer                             51599\n",
       "      Walking                                         17510\n",
       "      Talking while Standin                           17500\n",
       "      Standing                                         7910\n",
       "      Standing Up, Walking and Going updown stairs     4680\n",
       "                                                      ...  \n",
       "15    Walking                                         22149\n",
       "      Walking and Talking with Someone                 7449\n",
       "      Going UpDown Stairs                              3890\n",
       "      Standing Up, Walking and Going updown stairs     3435\n",
       "      No_activity                                         1\n",
       "Name: activity_1, Length: 120, dtype: int64"
      ]
     },
     "execution_count": 40,
     "metadata": {},
     "output_type": "execute_result"
    }
   ],
   "source": [
    "data.groupby('user').activity_1.value_counts()"
   ]
  },
  {
   "cell_type": "code",
   "execution_count": 44,
   "metadata": {},
   "outputs": [],
   "source": [
    "#data=data.drop(columns='activity_1',inplace=True)"
   ]
  },
  {
   "cell_type": "code",
   "execution_count": 45,
   "metadata": {},
   "outputs": [
    {
     "data": {
      "text/html": [
       "<div>\n",
       "<style scoped>\n",
       "    .dataframe tbody tr th:only-of-type {\n",
       "        vertical-align: middle;\n",
       "    }\n",
       "\n",
       "    .dataframe tbody tr th {\n",
       "        vertical-align: top;\n",
       "    }\n",
       "\n",
       "    .dataframe thead th {\n",
       "        text-align: right;\n",
       "    }\n",
       "</style>\n",
       "<table border=\"1\" class=\"dataframe\">\n",
       "  <thead>\n",
       "    <tr style=\"text-align: right;\">\n",
       "      <th></th>\n",
       "      <th>sequential number</th>\n",
       "      <th>x acceleration</th>\n",
       "      <th>y acceleration</th>\n",
       "      <th>z acceleration</th>\n",
       "      <th>label</th>\n",
       "      <th>user</th>\n",
       "      <th>activity_1</th>\n",
       "    </tr>\n",
       "  </thead>\n",
       "  <tbody>\n",
       "    <tr>\n",
       "      <th>0</th>\n",
       "      <td>1.0</td>\n",
       "      <td>1861</td>\n",
       "      <td>2367</td>\n",
       "      <td>2278</td>\n",
       "      <td>1</td>\n",
       "      <td>1</td>\n",
       "      <td>Working at Computer</td>\n",
       "    </tr>\n",
       "    <tr>\n",
       "      <th>1</th>\n",
       "      <td>2.0</td>\n",
       "      <td>1837</td>\n",
       "      <td>2387</td>\n",
       "      <td>2317</td>\n",
       "      <td>1</td>\n",
       "      <td>1</td>\n",
       "      <td>Working at Computer</td>\n",
       "    </tr>\n",
       "    <tr>\n",
       "      <th>2</th>\n",
       "      <td>3.0</td>\n",
       "      <td>1819</td>\n",
       "      <td>2409</td>\n",
       "      <td>2331</td>\n",
       "      <td>1</td>\n",
       "      <td>1</td>\n",
       "      <td>Working at Computer</td>\n",
       "    </tr>\n",
       "    <tr>\n",
       "      <th>3</th>\n",
       "      <td>4.0</td>\n",
       "      <td>1784</td>\n",
       "      <td>2407</td>\n",
       "      <td>2280</td>\n",
       "      <td>1</td>\n",
       "      <td>1</td>\n",
       "      <td>Working at Computer</td>\n",
       "    </tr>\n",
       "    <tr>\n",
       "      <th>4</th>\n",
       "      <td>5.0</td>\n",
       "      <td>1811</td>\n",
       "      <td>2414</td>\n",
       "      <td>2267</td>\n",
       "      <td>1</td>\n",
       "      <td>1</td>\n",
       "      <td>Working at Computer</td>\n",
       "    </tr>\n",
       "    <tr>\n",
       "      <th>...</th>\n",
       "      <td>...</td>\n",
       "      <td>...</td>\n",
       "      <td>...</td>\n",
       "      <td>...</td>\n",
       "      <td>...</td>\n",
       "      <td>...</td>\n",
       "      <td>...</td>\n",
       "    </tr>\n",
       "    <tr>\n",
       "      <th>126795</th>\n",
       "      <td>126800.0</td>\n",
       "      <td>2140</td>\n",
       "      <td>2471</td>\n",
       "      <td>1866</td>\n",
       "      <td>7</td>\n",
       "      <td>15</td>\n",
       "      <td>Talking while Standin</td>\n",
       "    </tr>\n",
       "    <tr>\n",
       "      <th>126796</th>\n",
       "      <td>126800.0</td>\n",
       "      <td>2113</td>\n",
       "      <td>2469</td>\n",
       "      <td>1885</td>\n",
       "      <td>7</td>\n",
       "      <td>15</td>\n",
       "      <td>Talking while Standin</td>\n",
       "    </tr>\n",
       "    <tr>\n",
       "      <th>126797</th>\n",
       "      <td>126800.0</td>\n",
       "      <td>2105</td>\n",
       "      <td>2467</td>\n",
       "      <td>1908</td>\n",
       "      <td>7</td>\n",
       "      <td>15</td>\n",
       "      <td>Talking while Standin</td>\n",
       "    </tr>\n",
       "    <tr>\n",
       "      <th>126798</th>\n",
       "      <td>126800.0</td>\n",
       "      <td>2096</td>\n",
       "      <td>2482</td>\n",
       "      <td>1924</td>\n",
       "      <td>7</td>\n",
       "      <td>15</td>\n",
       "      <td>Talking while Standin</td>\n",
       "    </tr>\n",
       "    <tr>\n",
       "      <th>126799</th>\n",
       "      <td>126800.0</td>\n",
       "      <td>2102</td>\n",
       "      <td>2495</td>\n",
       "      <td>1939</td>\n",
       "      <td>0</td>\n",
       "      <td>15</td>\n",
       "      <td>No_activity</td>\n",
       "    </tr>\n",
       "  </tbody>\n",
       "</table>\n",
       "<p>1926881 rows × 7 columns</p>\n",
       "</div>"
      ],
      "text/plain": [
       "        sequential number  x acceleration  y acceleration  z acceleration  \\\n",
       "0                     1.0            1861            2367            2278   \n",
       "1                     2.0            1837            2387            2317   \n",
       "2                     3.0            1819            2409            2331   \n",
       "3                     4.0            1784            2407            2280   \n",
       "4                     5.0            1811            2414            2267   \n",
       "...                   ...             ...             ...             ...   \n",
       "126795           126800.0            2140            2471            1866   \n",
       "126796           126800.0            2113            2469            1885   \n",
       "126797           126800.0            2105            2467            1908   \n",
       "126798           126800.0            2096            2482            1924   \n",
       "126799           126800.0            2102            2495            1939   \n",
       "\n",
       "        label  user             activity_1  \n",
       "0           1     1    Working at Computer  \n",
       "1           1     1    Working at Computer  \n",
       "2           1     1    Working at Computer  \n",
       "3           1     1    Working at Computer  \n",
       "4           1     1    Working at Computer  \n",
       "...       ...   ...                    ...  \n",
       "126795      7    15  Talking while Standin  \n",
       "126796      7    15  Talking while Standin  \n",
       "126797      7    15  Talking while Standin  \n",
       "126798      7    15  Talking while Standin  \n",
       "126799      0    15            No_activity  \n",
       "\n",
       "[1926881 rows x 7 columns]"
      ]
     },
     "execution_count": 45,
     "metadata": {},
     "output_type": "execute_result"
    }
   ],
   "source": [
    "data"
   ]
  },
  {
   "cell_type": "markdown",
   "metadata": {},
   "source": [
    "# Preparing training and testing data"
   ]
  },
  {
   "cell_type": "code",
   "execution_count": 41,
   "metadata": {},
   "outputs": [],
   "source": [
    "# removing the activity column\n",
    "\n",
    "x = data.drop(['label','activity_1','sequential number','user'], axis = 1)\n",
    "\n",
    "y=data['label']\n"
   ]
  },
  {
   "cell_type": "code",
   "execution_count": 42,
   "metadata": {},
   "outputs": [
    {
     "data": {
      "text/html": [
       "<div>\n",
       "<style scoped>\n",
       "    .dataframe tbody tr th:only-of-type {\n",
       "        vertical-align: middle;\n",
       "    }\n",
       "\n",
       "    .dataframe tbody tr th {\n",
       "        vertical-align: top;\n",
       "    }\n",
       "\n",
       "    .dataframe thead th {\n",
       "        text-align: right;\n",
       "    }\n",
       "</style>\n",
       "<table border=\"1\" class=\"dataframe\">\n",
       "  <thead>\n",
       "    <tr style=\"text-align: right;\">\n",
       "      <th></th>\n",
       "      <th>x acceleration</th>\n",
       "      <th>y acceleration</th>\n",
       "      <th>z acceleration</th>\n",
       "    </tr>\n",
       "  </thead>\n",
       "  <tbody>\n",
       "    <tr>\n",
       "      <th>0</th>\n",
       "      <td>1861</td>\n",
       "      <td>2367</td>\n",
       "      <td>2278</td>\n",
       "    </tr>\n",
       "    <tr>\n",
       "      <th>1</th>\n",
       "      <td>1837</td>\n",
       "      <td>2387</td>\n",
       "      <td>2317</td>\n",
       "    </tr>\n",
       "    <tr>\n",
       "      <th>2</th>\n",
       "      <td>1819</td>\n",
       "      <td>2409</td>\n",
       "      <td>2331</td>\n",
       "    </tr>\n",
       "    <tr>\n",
       "      <th>3</th>\n",
       "      <td>1784</td>\n",
       "      <td>2407</td>\n",
       "      <td>2280</td>\n",
       "    </tr>\n",
       "    <tr>\n",
       "      <th>4</th>\n",
       "      <td>1811</td>\n",
       "      <td>2414</td>\n",
       "      <td>2267</td>\n",
       "    </tr>\n",
       "    <tr>\n",
       "      <th>...</th>\n",
       "      <td>...</td>\n",
       "      <td>...</td>\n",
       "      <td>...</td>\n",
       "    </tr>\n",
       "    <tr>\n",
       "      <th>126795</th>\n",
       "      <td>2140</td>\n",
       "      <td>2471</td>\n",
       "      <td>1866</td>\n",
       "    </tr>\n",
       "    <tr>\n",
       "      <th>126796</th>\n",
       "      <td>2113</td>\n",
       "      <td>2469</td>\n",
       "      <td>1885</td>\n",
       "    </tr>\n",
       "    <tr>\n",
       "      <th>126797</th>\n",
       "      <td>2105</td>\n",
       "      <td>2467</td>\n",
       "      <td>1908</td>\n",
       "    </tr>\n",
       "    <tr>\n",
       "      <th>126798</th>\n",
       "      <td>2096</td>\n",
       "      <td>2482</td>\n",
       "      <td>1924</td>\n",
       "    </tr>\n",
       "    <tr>\n",
       "      <th>126799</th>\n",
       "      <td>2102</td>\n",
       "      <td>2495</td>\n",
       "      <td>1939</td>\n",
       "    </tr>\n",
       "  </tbody>\n",
       "</table>\n",
       "<p>1926881 rows × 3 columns</p>\n",
       "</div>"
      ],
      "text/plain": [
       "        x acceleration  y acceleration  z acceleration\n",
       "0                 1861            2367            2278\n",
       "1                 1837            2387            2317\n",
       "2                 1819            2409            2331\n",
       "3                 1784            2407            2280\n",
       "4                 1811            2414            2267\n",
       "...                ...             ...             ...\n",
       "126795            2140            2471            1866\n",
       "126796            2113            2469            1885\n",
       "126797            2105            2467            1908\n",
       "126798            2096            2482            1924\n",
       "126799            2102            2495            1939\n",
       "\n",
       "[1926881 rows x 3 columns]"
      ]
     },
     "execution_count": 42,
     "metadata": {},
     "output_type": "execute_result"
    }
   ],
   "source": [
    "x"
   ]
  },
  {
   "cell_type": "code",
   "execution_count": 43,
   "metadata": {},
   "outputs": [
    {
     "data": {
      "text/plain": [
       "0         1\n",
       "1         1\n",
       "2         1\n",
       "3         1\n",
       "4         1\n",
       "         ..\n",
       "126795    7\n",
       "126796    7\n",
       "126797    7\n",
       "126798    7\n",
       "126799    0\n",
       "Name: label, Length: 1926881, dtype: int64"
      ]
     },
     "execution_count": 43,
     "metadata": {},
     "output_type": "execute_result"
    }
   ],
   "source": [
    "y"
   ]
  },
  {
   "cell_type": "markdown",
   "metadata": {},
   "source": [
    "# Splitting training and testing data"
   ]
  },
  {
   "cell_type": "code",
   "execution_count": 49,
   "metadata": {},
   "outputs": [],
   "source": [
    "\n",
    "x_train,x_test,y_train,y_test=tt(x,y,test_size=0.30,random_state=0)"
   ]
  },
  {
   "cell_type": "code",
   "execution_count": 50,
   "metadata": {},
   "outputs": [
    {
     "data": {
      "text/plain": [
       "(1348816, 3)"
      ]
     },
     "execution_count": 50,
     "metadata": {},
     "output_type": "execute_result"
    }
   ],
   "source": [
    "x_train.shape"
   ]
  },
  {
   "cell_type": "code",
   "execution_count": 51,
   "metadata": {},
   "outputs": [
    {
     "data": {
      "text/plain": [
       "(578065, 3)"
      ]
     },
     "execution_count": 51,
     "metadata": {},
     "output_type": "execute_result"
    }
   ],
   "source": [
    "x_test.shape"
   ]
  },
  {
   "cell_type": "code",
   "execution_count": 52,
   "metadata": {},
   "outputs": [
    {
     "data": {
      "text/plain": [
       "(1348816,)"
      ]
     },
     "execution_count": 52,
     "metadata": {},
     "output_type": "execute_result"
    }
   ],
   "source": [
    "y_train.shape"
   ]
  },
  {
   "cell_type": "code",
   "execution_count": 53,
   "metadata": {},
   "outputs": [
    {
     "data": {
      "text/plain": [
       "(578065,)"
      ]
     },
     "execution_count": 53,
     "metadata": {},
     "output_type": "execute_result"
    }
   ],
   "source": [
    "y_test.shape"
   ]
  },
  {
   "cell_type": "markdown",
   "metadata": {},
   "source": [
    "# Using decision tree multiclass classification"
   ]
  },
  {
   "cell_type": "code",
   "execution_count": 55,
   "metadata": {},
   "outputs": [],
   "source": [
    "\n",
    "\n",
    "decision_tree = dtc(criterion = 'gini', max_depth = 15) \n",
    "decision_tree.fit(x_train, y_train) \n",
    "y_predicted = decision_tree.predict(x_test)\n"
   ]
  },
  {
   "cell_type": "code",
   "execution_count": 56,
   "metadata": {},
   "outputs": [
    {
     "data": {
      "text/plain": [
       "array([1, 3, 1, ..., 1, 1, 7])"
      ]
     },
     "execution_count": 56,
     "metadata": {},
     "output_type": "execute_result"
    }
   ],
   "source": [
    "y_predicted"
   ]
  },
  {
   "cell_type": "markdown",
   "metadata": {},
   "source": [
    "# Checking accuracy and precision and recall"
   ]
  },
  {
   "cell_type": "code",
   "execution_count": 58,
   "metadata": {},
   "outputs": [
    {
     "name": "stdout",
     "output_type": "stream",
     "text": [
      "Accuracy Score for Normal Decision Tree Classifier:  74.01122711113803\n",
      "Classification Report for Normal Decision Tree :\n",
      "                                       precision    recall  f1-score   support\n",
      "\n",
      "                                    0      0.154     0.009     0.016      1148\n",
      "                  Working at computer      0.856     0.904     0.880    183018\n",
      "Standing up, Walking and going updown      0.492     0.150     0.230     14359\n",
      "                             Standing      0.590     0.452     0.512     64752\n",
      "                              Walking      0.635     0.718     0.674    107064\n",
      "                  Going upDown stairs      0.392     0.106     0.167     15454\n",
      "                  Walking and talking      0.480     0.184     0.266     14207\n",
      "               Talking While Standing      0.748     0.841     0.792    178063\n",
      "\n",
      "                             accuracy                          0.740    578065\n",
      "                            macro avg      0.544     0.421     0.442    578065\n",
      "                         weighted avg      0.720     0.740     0.721    578065\n",
      "\n"
     ]
    }
   ],
   "source": [
    "\n",
    "print('Accuracy Score for Normal Decision Tree Classifier: ', (metrics.accuracy_score(y_test, y_predicted)*100))\n",
    "\n",
    "print(\"Classification Report for Normal Decision Tree :\")\n",
    "target_names = ['0', 'Working at computer', 'Standing up, Walking and going updown', 'Standing', 'Walking', 'Going upDown stairs', 'Walking and talking', 'Talking While Standing']\n",
    "print(cr(y_test, y_predicted, digits = 3, target_names=target_names))\n"
   ]
  },
  {
   "cell_type": "code",
   "execution_count": 59,
   "metadata": {},
   "outputs": [
    {
     "name": "stdout",
     "output_type": "stream",
     "text": [
      "[[    10    603      8     60    223      2      0    242]\n",
      " [    10 165518   1105   1943   5630    152     93   8567]\n",
      " [     1   5821   2158    761   2947     63     32   2576]\n",
      " [     3   3766    224  29293  14227    937    668  15634]\n",
      " [    25   8154    443   5971  76919    598    373  14581]\n",
      " [     3   1426     26   3018   6283   1639    263   2796]\n",
      " [     1    644     50   1684   2715    547   2609   5957]\n",
      " [    12   7357    372   6908  12095    238   1394 149687]] \n",
      "\n"
     ]
    }
   ],
   "source": [
    "#Confusion Matrix\n",
    "cm = confusion_matrix(y_test, y_predicted)\n",
    "\n",
    "print(cm, \"\\n\")"
   ]
  },
  {
   "cell_type": "markdown",
   "metadata": {},
   "source": [
    "# For plotting confusion matrix"
   ]
  },
  {
   "cell_type": "code",
   "execution_count": 60,
   "metadata": {},
   "outputs": [
    {
     "name": "stdout",
     "output_type": "stream",
     "text": [
      "Visualising confusion matrix : \n",
      "\n"
     ]
    },
    {
     "data": {
      "image/png": "[encoded data removed]",
      "text/plain": [
       "<Figure size 1944x360 with 2 Axes>"
      ]
     },
     "metadata": {
      "needs_background": "light"
     },
     "output_type": "display_data"
    }
   ],
   "source": [
    "\n",
    "\n",
    "\n",
    "import seaborn as sns\n",
    "import matplotlib.pyplot as plt  \n",
    "\n",
    "print(\"Visualising confusion matrix : \\n\")\n",
    "\n",
    "fig = plt.figure(figsize = (27, 5))\n",
    "ax= plt.subplot()\n",
    "target_names = ['0', 'Working at computer', 'Standing up, Walking and going updown', 'Standing', 'Walking', 'Going upDown stairs', 'Walking and talking', 'Talking While Standing']\n",
    "sns.set(font_scale=1.4)\n",
    "sns.heatmap(cm, annot=True, ax = ax, fmt='g'); #annot=True to annotate cells\n",
    "ax.set_xlabel('Predicted labels', fontweight=\"bold\");\n",
    "ax.set_ylabel('True labels', fontweight=\"bold\"); \n",
    "ax.set_title('Confusion Matrix', fontweight=\"bold\"); \n",
    "\n",
    "plt.setp(ax.get_yticklabels(), rotation= 45, ha=\"right\",\n",
    "         rotation_mode=\"anchor\")\n",
    "\n",
    "plt.setp(ax.get_xticklabels(), rotation=45, ha=\"right\",\n",
    "         rotation_mode=\"anchor\")\n",
    "\n",
    "ax.xaxis.set_ticklabels(target_names); ax.yaxis.set_ticklabels(target_names);\n"
   ]
  },
  {
   "cell_type": "code",
   "execution_count": 81,
   "metadata": {},
   "outputs": [
    {
     "name": "stdout",
     "output_type": "stream",
     "text": [
      "Collecting xgboost\n",
      "  Downloading xgboost-1.3.1-py3-none-manylinux2010_x86_64.whl (157.5 MB)\n",
      "\u001b[K     |████████████████████████████████| 157.5 MB 34 kB/s s eta 0:00:01   |███                             | 15.0 MB 1.6 MB/s eta 0:01:28     |█████████████▌                  | 66.2 MB 38.8 MB/s eta 0:00:03     |█████████████████████████████▌  | 145.0 MB 60.8 MB/s eta 0:00:01\n",
      "\u001b[?25hRequirement already satisfied: scipy in /home/ec2-user/anaconda3/envs/python3/lib/python3.6/site-packages (from xgboost) (1.4.1)\n",
      "Requirement already satisfied: numpy in /home/ec2-user/anaconda3/envs/python3/lib/python3.6/site-packages (from xgboost) (1.19.4)\n",
      "Requirement already satisfied: numpy in /home/ec2-user/anaconda3/envs/python3/lib/python3.6/site-packages (from xgboost) (1.19.4)\n",
      "Installing collected packages: xgboost\n",
      "Successfully installed xgboost-1.3.1\n",
      "\u001b[33mWARNING: You are using pip version 20.3; however, version 20.3.3 is available.\n",
      "You should consider upgrading via the '/home/ec2-user/anaconda3/envs/python3/bin/python -m pip install --upgrade pip' command.\u001b[0m\n"
     ]
    }
   ],
   "source": []
  },
  {
   "cell_type": "markdown",
   "metadata": {},
   "source": [
    "# Using XGboost classifier"
   ]
  },
  {
   "cell_type": "code",
   "execution_count": 83,
   "metadata": {},
   "outputs": [],
   "source": [
    "model = xgb()"
   ]
  },
  {
   "cell_type": "code",
   "execution_count": 84,
   "metadata": {},
   "outputs": [
    {
     "name": "stderr",
     "output_type": "stream",
     "text": [
      "/home/ec2-user/anaconda3/envs/python3/lib/python3.6/site-packages/xgboost/sklearn.py:892: UserWarning: The use of label encoder in XGBClassifier is deprecated and will be removed in a future release. To remove this warning, do the following: 1) Pass option use_label_encoder=False when constructing XGBClassifier object; and 2) Encode your labels (y) as integers starting with 0, i.e. 0, 1, 2, ..., [num_class - 1].\n",
      "  warnings.warn(label_encoder_deprecation_msg, UserWarning)\n"
     ]
    },
    {
     "name": "stdout",
     "output_type": "stream",
     "text": [
      "[06:21:45] WARNING: ../src/learner.cc:1061: Starting in XGBoost 1.3.0, the default evaluation metric used with the objective 'multi:softprob' was changed from 'merror' to 'mlogloss'. Explicitly set eval_metric if you'd like to restore the old behavior.\n"
     ]
    },
    {
     "data": {
      "text/plain": [
       "XGBClassifier(base_score=0.5, booster='gbtree', colsample_bylevel=1,\n",
       "              colsample_bynode=1, colsample_bytree=1, gamma=0, gpu_id=-1,\n",
       "              importance_type='gain', interaction_constraints='',\n",
       "              learning_rate=0.300000012, max_delta_step=0, max_depth=6,\n",
       "              min_child_weight=1, missing=nan, monotone_constraints='()',\n",
       "              n_estimators=100, n_jobs=4, num_parallel_tree=1,\n",
       "              objective='multi:softprob', random_state=0, reg_alpha=0,\n",
       "              reg_lambda=1, scale_pos_weight=None, subsample=1,\n",
       "              tree_method='exact', use_label_encoder=True,\n",
       "              validate_parameters=1, verbosity=None)"
      ]
     },
     "execution_count": 84,
     "metadata": {},
     "output_type": "execute_result"
    }
   ],
   "source": [
    "model.fit(x_train, y_train)"
   ]
  },
  {
   "cell_type": "code",
   "execution_count": 85,
   "metadata": {},
   "outputs": [],
   "source": [
    "y_pred1 = model.predict(x_test)"
   ]
  },
  {
   "cell_type": "markdown",
   "metadata": {},
   "source": [
    "# Checking accuracy and confusion matrix"
   ]
  },
  {
   "cell_type": "code",
   "execution_count": 86,
   "metadata": {},
   "outputs": [
    {
     "data": {
      "text/plain": [
       "0.7450704115710071"
      ]
     },
     "execution_count": 86,
     "metadata": {},
     "output_type": "execute_result"
    }
   ],
   "source": [
    "accu(y_test,y_pred1)"
   ]
  },
  {
   "cell_type": "code",
   "execution_count": 87,
   "metadata": {},
   "outputs": [
    {
     "data": {
      "text/plain": [
       "array([[    14,    404,      0,     34,    154,      0,      1,    137],\n",
       "       [     2, 111154,    535,    976,   3405,     34,     46,   5993],\n",
       "       [     1,   4010,   1275,    392,   2033,     22,     19,   1844],\n",
       "       [     1,   2689,     92,  18878,   9495,    600,    345,  11150],\n",
       "       [     4,   5670,     63,   3268,  51987,     92,    160,  10099],\n",
       "       [     0,    987,      4,   1640,   4389,   1055,     87,   2080],\n",
       "       [     0,    442,      9,    990,   1779,    364,   1510,   4425],\n",
       "       [     0,   5112,    118,   3797,   7550,    108,    593, 101260]])"
      ]
     },
     "execution_count": 87,
     "metadata": {},
     "output_type": "execute_result"
    }
   ],
   "source": [
    "cmk(y_test,y_pred1)"
   ]
  }
 ],
 "metadata": {
  "kernelspec": {
   "display_name": "conda_python3",
   "language": "python",
   "name": "conda_python3"
  },
  "language_info": {
   "codemirror_mode": {
    "name": "ipython",
    "version": 3
   },
   "file_extension": ".py",
   "mimetype": "text/x-python",
   "name": "python",
   "nbconvert_exporter": "python",
   "pygments_lexer": "ipython3",
   "version": "3.6.10"
  }
 },
 "nbformat": 4,
 "nbformat_minor": 4
}
